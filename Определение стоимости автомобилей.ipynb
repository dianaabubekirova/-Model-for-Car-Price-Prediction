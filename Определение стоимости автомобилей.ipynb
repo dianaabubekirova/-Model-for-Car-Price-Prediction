{
 "cells": [
  {
   "cell_type": "markdown",
   "metadata": {},
   "source": [
    "# Определение стоимости автомобилей"
   ]
  },
  {
   "cell_type": "markdown",
   "metadata": {},
   "source": [
    "Сервис по продаже автомобилей с пробегом «Не бит, не крашен» разрабатывает приложение для привлечения новых клиентов. В нём можно быстро узнать рыночную стоимость своего автомобиля. В вашем распоряжении исторические данные: технические характеристики, комплектации и цены автомобилей. Вам нужно построить модель для определения стоимости. \n",
    "\n",
    "Заказчику важны:\n",
    "\n",
    "- качество предсказания;\n",
    "- скорость предсказания;\n",
    "- время обучения."
   ]
  },
  {
   "cell_type": "markdown",
   "metadata": {},
   "source": [
    "## Подготовка данных"
   ]
  },
  {
   "cell_type": "markdown",
   "metadata": {},
   "source": [
    "Импортируем необходимые библиотеки"
   ]
  },
  {
   "cell_type": "code",
   "execution_count": 1,
   "metadata": {},
   "outputs": [],
   "source": [
    "import pandas as pd\n",
    "import numpy as np\n",
    "from sklearn.linear_model import LinearRegression\n",
    "from sklearn.ensemble import RandomForestRegressor\n",
    "from lightgbm import LGBMRegressor\n",
    "from sklearn.metrics import mean_squared_error\n",
    "from sklearn.model_selection import train_test_split\n",
    "import time\n",
    "from sklearn.model_selection import cross_val_score\n",
    "from catboost import CatBoostRegressor\n",
    "from sklearn.model_selection import GridSearchCV\n",
    "from sklearn.preprocessing import OneHotEncoder"
   ]
  },
  {
   "cell_type": "markdown",
   "metadata": {},
   "source": [
    "Загрузим датасет и сохраним в переменной"
   ]
  },
  {
   "cell_type": "code",
   "execution_count": 2,
   "metadata": {},
   "outputs": [],
   "source": [
    "df = pd.read_csv('/datasets/autos.csv')"
   ]
  },
  {
   "cell_type": "markdown",
   "metadata": {},
   "source": [
    "Узнаем размер таблицы и данные"
   ]
  },
  {
   "cell_type": "code",
   "execution_count": 3,
   "metadata": {
    "scrolled": true
   },
   "outputs": [
    {
     "name": "stdout",
     "output_type": "stream",
     "text": [
      "<class 'pandas.core.frame.DataFrame'>\n",
      "RangeIndex: 354369 entries, 0 to 354368\n",
      "Data columns (total 16 columns):\n",
      " #   Column             Non-Null Count   Dtype \n",
      "---  ------             --------------   ----- \n",
      " 0   DateCrawled        354369 non-null  object\n",
      " 1   Price              354369 non-null  int64 \n",
      " 2   VehicleType        316879 non-null  object\n",
      " 3   RegistrationYear   354369 non-null  int64 \n",
      " 4   Gearbox            334536 non-null  object\n",
      " 5   Power              354369 non-null  int64 \n",
      " 6   Model              334664 non-null  object\n",
      " 7   Kilometer          354369 non-null  int64 \n",
      " 8   RegistrationMonth  354369 non-null  int64 \n",
      " 9   FuelType           321474 non-null  object\n",
      " 10  Brand              354369 non-null  object\n",
      " 11  Repaired           283215 non-null  object\n",
      " 12  DateCreated        354369 non-null  object\n",
      " 13  NumberOfPictures   354369 non-null  int64 \n",
      " 14  PostalCode         354369 non-null  int64 \n",
      " 15  LastSeen           354369 non-null  object\n",
      "dtypes: int64(7), object(9)\n",
      "memory usage: 43.3+ MB\n"
     ]
    }
   ],
   "source": [
    "df.info()"
   ]
  },
  {
   "cell_type": "code",
   "execution_count": 4,
   "metadata": {
    "scrolled": false
   },
   "outputs": [
    {
     "data": {
      "text/html": [
       "<div>\n",
       "<style scoped>\n",
       "    .dataframe tbody tr th:only-of-type {\n",
       "        vertical-align: middle;\n",
       "    }\n",
       "\n",
       "    .dataframe tbody tr th {\n",
       "        vertical-align: top;\n",
       "    }\n",
       "\n",
       "    .dataframe thead th {\n",
       "        text-align: right;\n",
       "    }\n",
       "</style>\n",
       "<table border=\"1\" class=\"dataframe\">\n",
       "  <thead>\n",
       "    <tr style=\"text-align: right;\">\n",
       "      <th></th>\n",
       "      <th>Price</th>\n",
       "      <th>RegistrationYear</th>\n",
       "      <th>Power</th>\n",
       "      <th>Kilometer</th>\n",
       "      <th>RegistrationMonth</th>\n",
       "      <th>NumberOfPictures</th>\n",
       "      <th>PostalCode</th>\n",
       "    </tr>\n",
       "  </thead>\n",
       "  <tbody>\n",
       "    <tr>\n",
       "      <th>count</th>\n",
       "      <td>354369.000000</td>\n",
       "      <td>354369.000000</td>\n",
       "      <td>354369.000000</td>\n",
       "      <td>354369.000000</td>\n",
       "      <td>354369.000000</td>\n",
       "      <td>354369.0</td>\n",
       "      <td>354369.000000</td>\n",
       "    </tr>\n",
       "    <tr>\n",
       "      <th>mean</th>\n",
       "      <td>4416.656776</td>\n",
       "      <td>2004.234448</td>\n",
       "      <td>110.094337</td>\n",
       "      <td>128211.172535</td>\n",
       "      <td>5.714645</td>\n",
       "      <td>0.0</td>\n",
       "      <td>50508.689087</td>\n",
       "    </tr>\n",
       "    <tr>\n",
       "      <th>std</th>\n",
       "      <td>4514.158514</td>\n",
       "      <td>90.227958</td>\n",
       "      <td>189.850405</td>\n",
       "      <td>37905.341530</td>\n",
       "      <td>3.726421</td>\n",
       "      <td>0.0</td>\n",
       "      <td>25783.096248</td>\n",
       "    </tr>\n",
       "    <tr>\n",
       "      <th>min</th>\n",
       "      <td>0.000000</td>\n",
       "      <td>1000.000000</td>\n",
       "      <td>0.000000</td>\n",
       "      <td>5000.000000</td>\n",
       "      <td>0.000000</td>\n",
       "      <td>0.0</td>\n",
       "      <td>1067.000000</td>\n",
       "    </tr>\n",
       "    <tr>\n",
       "      <th>25%</th>\n",
       "      <td>1050.000000</td>\n",
       "      <td>1999.000000</td>\n",
       "      <td>69.000000</td>\n",
       "      <td>125000.000000</td>\n",
       "      <td>3.000000</td>\n",
       "      <td>0.0</td>\n",
       "      <td>30165.000000</td>\n",
       "    </tr>\n",
       "    <tr>\n",
       "      <th>50%</th>\n",
       "      <td>2700.000000</td>\n",
       "      <td>2003.000000</td>\n",
       "      <td>105.000000</td>\n",
       "      <td>150000.000000</td>\n",
       "      <td>6.000000</td>\n",
       "      <td>0.0</td>\n",
       "      <td>49413.000000</td>\n",
       "    </tr>\n",
       "    <tr>\n",
       "      <th>75%</th>\n",
       "      <td>6400.000000</td>\n",
       "      <td>2008.000000</td>\n",
       "      <td>143.000000</td>\n",
       "      <td>150000.000000</td>\n",
       "      <td>9.000000</td>\n",
       "      <td>0.0</td>\n",
       "      <td>71083.000000</td>\n",
       "    </tr>\n",
       "    <tr>\n",
       "      <th>max</th>\n",
       "      <td>20000.000000</td>\n",
       "      <td>9999.000000</td>\n",
       "      <td>20000.000000</td>\n",
       "      <td>150000.000000</td>\n",
       "      <td>12.000000</td>\n",
       "      <td>0.0</td>\n",
       "      <td>99998.000000</td>\n",
       "    </tr>\n",
       "  </tbody>\n",
       "</table>\n",
       "</div>"
      ],
      "text/plain": [
       "               Price  RegistrationYear          Power      Kilometer  \\\n",
       "count  354369.000000     354369.000000  354369.000000  354369.000000   \n",
       "mean     4416.656776       2004.234448     110.094337  128211.172535   \n",
       "std      4514.158514         90.227958     189.850405   37905.341530   \n",
       "min         0.000000       1000.000000       0.000000    5000.000000   \n",
       "25%      1050.000000       1999.000000      69.000000  125000.000000   \n",
       "50%      2700.000000       2003.000000     105.000000  150000.000000   \n",
       "75%      6400.000000       2008.000000     143.000000  150000.000000   \n",
       "max     20000.000000       9999.000000   20000.000000  150000.000000   \n",
       "\n",
       "       RegistrationMonth  NumberOfPictures     PostalCode  \n",
       "count      354369.000000          354369.0  354369.000000  \n",
       "mean            5.714645               0.0   50508.689087  \n",
       "std             3.726421               0.0   25783.096248  \n",
       "min             0.000000               0.0    1067.000000  \n",
       "25%             3.000000               0.0   30165.000000  \n",
       "50%             6.000000               0.0   49413.000000  \n",
       "75%             9.000000               0.0   71083.000000  \n",
       "max            12.000000               0.0   99998.000000  "
      ]
     },
     "execution_count": 4,
     "metadata": {},
     "output_type": "execute_result"
    }
   ],
   "source": [
    "df.describe()"
   ]
  },
  {
   "cell_type": "code",
   "execution_count": 5,
   "metadata": {},
   "outputs": [
    {
     "data": {
      "text/html": [
       "<div>\n",
       "<style scoped>\n",
       "    .dataframe tbody tr th:only-of-type {\n",
       "        vertical-align: middle;\n",
       "    }\n",
       "\n",
       "    .dataframe tbody tr th {\n",
       "        vertical-align: top;\n",
       "    }\n",
       "\n",
       "    .dataframe thead th {\n",
       "        text-align: right;\n",
       "    }\n",
       "</style>\n",
       "<table border=\"1\" class=\"dataframe\">\n",
       "  <thead>\n",
       "    <tr style=\"text-align: right;\">\n",
       "      <th></th>\n",
       "      <th>DateCrawled</th>\n",
       "      <th>Price</th>\n",
       "      <th>VehicleType</th>\n",
       "      <th>RegistrationYear</th>\n",
       "      <th>Gearbox</th>\n",
       "      <th>Power</th>\n",
       "      <th>Model</th>\n",
       "      <th>Kilometer</th>\n",
       "      <th>RegistrationMonth</th>\n",
       "      <th>FuelType</th>\n",
       "      <th>Brand</th>\n",
       "      <th>Repaired</th>\n",
       "      <th>DateCreated</th>\n",
       "      <th>NumberOfPictures</th>\n",
       "      <th>PostalCode</th>\n",
       "      <th>LastSeen</th>\n",
       "    </tr>\n",
       "  </thead>\n",
       "  <tbody>\n",
       "    <tr>\n",
       "      <th>0</th>\n",
       "      <td>2016-03-24 11:52:17</td>\n",
       "      <td>480</td>\n",
       "      <td>NaN</td>\n",
       "      <td>1993</td>\n",
       "      <td>manual</td>\n",
       "      <td>0</td>\n",
       "      <td>golf</td>\n",
       "      <td>150000</td>\n",
       "      <td>0</td>\n",
       "      <td>petrol</td>\n",
       "      <td>volkswagen</td>\n",
       "      <td>NaN</td>\n",
       "      <td>2016-03-24 00:00:00</td>\n",
       "      <td>0</td>\n",
       "      <td>70435</td>\n",
       "      <td>2016-04-07 03:16:57</td>\n",
       "    </tr>\n",
       "    <tr>\n",
       "      <th>1</th>\n",
       "      <td>2016-03-24 10:58:45</td>\n",
       "      <td>18300</td>\n",
       "      <td>coupe</td>\n",
       "      <td>2011</td>\n",
       "      <td>manual</td>\n",
       "      <td>190</td>\n",
       "      <td>NaN</td>\n",
       "      <td>125000</td>\n",
       "      <td>5</td>\n",
       "      <td>gasoline</td>\n",
       "      <td>audi</td>\n",
       "      <td>yes</td>\n",
       "      <td>2016-03-24 00:00:00</td>\n",
       "      <td>0</td>\n",
       "      <td>66954</td>\n",
       "      <td>2016-04-07 01:46:50</td>\n",
       "    </tr>\n",
       "    <tr>\n",
       "      <th>2</th>\n",
       "      <td>2016-03-14 12:52:21</td>\n",
       "      <td>9800</td>\n",
       "      <td>suv</td>\n",
       "      <td>2004</td>\n",
       "      <td>auto</td>\n",
       "      <td>163</td>\n",
       "      <td>grand</td>\n",
       "      <td>125000</td>\n",
       "      <td>8</td>\n",
       "      <td>gasoline</td>\n",
       "      <td>jeep</td>\n",
       "      <td>NaN</td>\n",
       "      <td>2016-03-14 00:00:00</td>\n",
       "      <td>0</td>\n",
       "      <td>90480</td>\n",
       "      <td>2016-04-05 12:47:46</td>\n",
       "    </tr>\n",
       "    <tr>\n",
       "      <th>3</th>\n",
       "      <td>2016-03-17 16:54:04</td>\n",
       "      <td>1500</td>\n",
       "      <td>small</td>\n",
       "      <td>2001</td>\n",
       "      <td>manual</td>\n",
       "      <td>75</td>\n",
       "      <td>golf</td>\n",
       "      <td>150000</td>\n",
       "      <td>6</td>\n",
       "      <td>petrol</td>\n",
       "      <td>volkswagen</td>\n",
       "      <td>no</td>\n",
       "      <td>2016-03-17 00:00:00</td>\n",
       "      <td>0</td>\n",
       "      <td>91074</td>\n",
       "      <td>2016-03-17 17:40:17</td>\n",
       "    </tr>\n",
       "    <tr>\n",
       "      <th>4</th>\n",
       "      <td>2016-03-31 17:25:20</td>\n",
       "      <td>3600</td>\n",
       "      <td>small</td>\n",
       "      <td>2008</td>\n",
       "      <td>manual</td>\n",
       "      <td>69</td>\n",
       "      <td>fabia</td>\n",
       "      <td>90000</td>\n",
       "      <td>7</td>\n",
       "      <td>gasoline</td>\n",
       "      <td>skoda</td>\n",
       "      <td>no</td>\n",
       "      <td>2016-03-31 00:00:00</td>\n",
       "      <td>0</td>\n",
       "      <td>60437</td>\n",
       "      <td>2016-04-06 10:17:21</td>\n",
       "    </tr>\n",
       "    <tr>\n",
       "      <th>5</th>\n",
       "      <td>2016-04-04 17:36:23</td>\n",
       "      <td>650</td>\n",
       "      <td>sedan</td>\n",
       "      <td>1995</td>\n",
       "      <td>manual</td>\n",
       "      <td>102</td>\n",
       "      <td>3er</td>\n",
       "      <td>150000</td>\n",
       "      <td>10</td>\n",
       "      <td>petrol</td>\n",
       "      <td>bmw</td>\n",
       "      <td>yes</td>\n",
       "      <td>2016-04-04 00:00:00</td>\n",
       "      <td>0</td>\n",
       "      <td>33775</td>\n",
       "      <td>2016-04-06 19:17:07</td>\n",
       "    </tr>\n",
       "    <tr>\n",
       "      <th>6</th>\n",
       "      <td>2016-04-01 20:48:51</td>\n",
       "      <td>2200</td>\n",
       "      <td>convertible</td>\n",
       "      <td>2004</td>\n",
       "      <td>manual</td>\n",
       "      <td>109</td>\n",
       "      <td>2_reihe</td>\n",
       "      <td>150000</td>\n",
       "      <td>8</td>\n",
       "      <td>petrol</td>\n",
       "      <td>peugeot</td>\n",
       "      <td>no</td>\n",
       "      <td>2016-04-01 00:00:00</td>\n",
       "      <td>0</td>\n",
       "      <td>67112</td>\n",
       "      <td>2016-04-05 18:18:39</td>\n",
       "    </tr>\n",
       "    <tr>\n",
       "      <th>7</th>\n",
       "      <td>2016-03-21 18:54:38</td>\n",
       "      <td>0</td>\n",
       "      <td>sedan</td>\n",
       "      <td>1980</td>\n",
       "      <td>manual</td>\n",
       "      <td>50</td>\n",
       "      <td>other</td>\n",
       "      <td>40000</td>\n",
       "      <td>7</td>\n",
       "      <td>petrol</td>\n",
       "      <td>volkswagen</td>\n",
       "      <td>no</td>\n",
       "      <td>2016-03-21 00:00:00</td>\n",
       "      <td>0</td>\n",
       "      <td>19348</td>\n",
       "      <td>2016-03-25 16:47:58</td>\n",
       "    </tr>\n",
       "    <tr>\n",
       "      <th>8</th>\n",
       "      <td>2016-04-04 23:42:13</td>\n",
       "      <td>14500</td>\n",
       "      <td>bus</td>\n",
       "      <td>2014</td>\n",
       "      <td>manual</td>\n",
       "      <td>125</td>\n",
       "      <td>c_max</td>\n",
       "      <td>30000</td>\n",
       "      <td>8</td>\n",
       "      <td>petrol</td>\n",
       "      <td>ford</td>\n",
       "      <td>NaN</td>\n",
       "      <td>2016-04-04 00:00:00</td>\n",
       "      <td>0</td>\n",
       "      <td>94505</td>\n",
       "      <td>2016-04-04 23:42:13</td>\n",
       "    </tr>\n",
       "    <tr>\n",
       "      <th>9</th>\n",
       "      <td>2016-03-17 10:53:50</td>\n",
       "      <td>999</td>\n",
       "      <td>small</td>\n",
       "      <td>1998</td>\n",
       "      <td>manual</td>\n",
       "      <td>101</td>\n",
       "      <td>golf</td>\n",
       "      <td>150000</td>\n",
       "      <td>0</td>\n",
       "      <td>NaN</td>\n",
       "      <td>volkswagen</td>\n",
       "      <td>NaN</td>\n",
       "      <td>2016-03-17 00:00:00</td>\n",
       "      <td>0</td>\n",
       "      <td>27472</td>\n",
       "      <td>2016-03-31 17:17:06</td>\n",
       "    </tr>\n",
       "    <tr>\n",
       "      <th>10</th>\n",
       "      <td>2016-03-26 19:54:18</td>\n",
       "      <td>2000</td>\n",
       "      <td>sedan</td>\n",
       "      <td>2004</td>\n",
       "      <td>manual</td>\n",
       "      <td>105</td>\n",
       "      <td>3_reihe</td>\n",
       "      <td>150000</td>\n",
       "      <td>12</td>\n",
       "      <td>petrol</td>\n",
       "      <td>mazda</td>\n",
       "      <td>no</td>\n",
       "      <td>2016-03-26 00:00:00</td>\n",
       "      <td>0</td>\n",
       "      <td>96224</td>\n",
       "      <td>2016-04-06 10:45:34</td>\n",
       "    </tr>\n",
       "    <tr>\n",
       "      <th>11</th>\n",
       "      <td>2016-04-07 10:06:22</td>\n",
       "      <td>2799</td>\n",
       "      <td>wagon</td>\n",
       "      <td>2005</td>\n",
       "      <td>manual</td>\n",
       "      <td>140</td>\n",
       "      <td>passat</td>\n",
       "      <td>150000</td>\n",
       "      <td>12</td>\n",
       "      <td>gasoline</td>\n",
       "      <td>volkswagen</td>\n",
       "      <td>yes</td>\n",
       "      <td>2016-04-07 00:00:00</td>\n",
       "      <td>0</td>\n",
       "      <td>57290</td>\n",
       "      <td>2016-04-07 10:25:17</td>\n",
       "    </tr>\n",
       "    <tr>\n",
       "      <th>12</th>\n",
       "      <td>2016-03-15 22:49:09</td>\n",
       "      <td>999</td>\n",
       "      <td>wagon</td>\n",
       "      <td>1995</td>\n",
       "      <td>manual</td>\n",
       "      <td>115</td>\n",
       "      <td>passat</td>\n",
       "      <td>150000</td>\n",
       "      <td>11</td>\n",
       "      <td>petrol</td>\n",
       "      <td>volkswagen</td>\n",
       "      <td>NaN</td>\n",
       "      <td>2016-03-15 00:00:00</td>\n",
       "      <td>0</td>\n",
       "      <td>37269</td>\n",
       "      <td>2016-04-01 13:16:16</td>\n",
       "    </tr>\n",
       "    <tr>\n",
       "      <th>13</th>\n",
       "      <td>2016-03-21 21:37:40</td>\n",
       "      <td>2500</td>\n",
       "      <td>wagon</td>\n",
       "      <td>2004</td>\n",
       "      <td>manual</td>\n",
       "      <td>131</td>\n",
       "      <td>passat</td>\n",
       "      <td>150000</td>\n",
       "      <td>2</td>\n",
       "      <td>NaN</td>\n",
       "      <td>volkswagen</td>\n",
       "      <td>no</td>\n",
       "      <td>2016-03-21 00:00:00</td>\n",
       "      <td>0</td>\n",
       "      <td>90762</td>\n",
       "      <td>2016-03-23 02:50:54</td>\n",
       "    </tr>\n",
       "    <tr>\n",
       "      <th>14</th>\n",
       "      <td>2016-03-21 12:57:01</td>\n",
       "      <td>17999</td>\n",
       "      <td>suv</td>\n",
       "      <td>2011</td>\n",
       "      <td>manual</td>\n",
       "      <td>190</td>\n",
       "      <td>navara</td>\n",
       "      <td>70000</td>\n",
       "      <td>3</td>\n",
       "      <td>gasoline</td>\n",
       "      <td>nissan</td>\n",
       "      <td>no</td>\n",
       "      <td>2016-03-21 00:00:00</td>\n",
       "      <td>0</td>\n",
       "      <td>4177</td>\n",
       "      <td>2016-04-06 07:45:42</td>\n",
       "    </tr>\n",
       "  </tbody>\n",
       "</table>\n",
       "</div>"
      ],
      "text/plain": [
       "            DateCrawled  Price  VehicleType  RegistrationYear Gearbox  Power  \\\n",
       "0   2016-03-24 11:52:17    480          NaN              1993  manual      0   \n",
       "1   2016-03-24 10:58:45  18300        coupe              2011  manual    190   \n",
       "2   2016-03-14 12:52:21   9800          suv              2004    auto    163   \n",
       "3   2016-03-17 16:54:04   1500        small              2001  manual     75   \n",
       "4   2016-03-31 17:25:20   3600        small              2008  manual     69   \n",
       "5   2016-04-04 17:36:23    650        sedan              1995  manual    102   \n",
       "6   2016-04-01 20:48:51   2200  convertible              2004  manual    109   \n",
       "7   2016-03-21 18:54:38      0        sedan              1980  manual     50   \n",
       "8   2016-04-04 23:42:13  14500          bus              2014  manual    125   \n",
       "9   2016-03-17 10:53:50    999        small              1998  manual    101   \n",
       "10  2016-03-26 19:54:18   2000        sedan              2004  manual    105   \n",
       "11  2016-04-07 10:06:22   2799        wagon              2005  manual    140   \n",
       "12  2016-03-15 22:49:09    999        wagon              1995  manual    115   \n",
       "13  2016-03-21 21:37:40   2500        wagon              2004  manual    131   \n",
       "14  2016-03-21 12:57:01  17999          suv              2011  manual    190   \n",
       "\n",
       "      Model  Kilometer  RegistrationMonth  FuelType       Brand Repaired  \\\n",
       "0      golf     150000                  0    petrol  volkswagen      NaN   \n",
       "1       NaN     125000                  5  gasoline        audi      yes   \n",
       "2     grand     125000                  8  gasoline        jeep      NaN   \n",
       "3      golf     150000                  6    petrol  volkswagen       no   \n",
       "4     fabia      90000                  7  gasoline       skoda       no   \n",
       "5       3er     150000                 10    petrol         bmw      yes   \n",
       "6   2_reihe     150000                  8    petrol     peugeot       no   \n",
       "7     other      40000                  7    petrol  volkswagen       no   \n",
       "8     c_max      30000                  8    petrol        ford      NaN   \n",
       "9      golf     150000                  0       NaN  volkswagen      NaN   \n",
       "10  3_reihe     150000                 12    petrol       mazda       no   \n",
       "11   passat     150000                 12  gasoline  volkswagen      yes   \n",
       "12   passat     150000                 11    petrol  volkswagen      NaN   \n",
       "13   passat     150000                  2       NaN  volkswagen       no   \n",
       "14   navara      70000                  3  gasoline      nissan       no   \n",
       "\n",
       "            DateCreated  NumberOfPictures  PostalCode             LastSeen  \n",
       "0   2016-03-24 00:00:00                 0       70435  2016-04-07 03:16:57  \n",
       "1   2016-03-24 00:00:00                 0       66954  2016-04-07 01:46:50  \n",
       "2   2016-03-14 00:00:00                 0       90480  2016-04-05 12:47:46  \n",
       "3   2016-03-17 00:00:00                 0       91074  2016-03-17 17:40:17  \n",
       "4   2016-03-31 00:00:00                 0       60437  2016-04-06 10:17:21  \n",
       "5   2016-04-04 00:00:00                 0       33775  2016-04-06 19:17:07  \n",
       "6   2016-04-01 00:00:00                 0       67112  2016-04-05 18:18:39  \n",
       "7   2016-03-21 00:00:00                 0       19348  2016-03-25 16:47:58  \n",
       "8   2016-04-04 00:00:00                 0       94505  2016-04-04 23:42:13  \n",
       "9   2016-03-17 00:00:00                 0       27472  2016-03-31 17:17:06  \n",
       "10  2016-03-26 00:00:00                 0       96224  2016-04-06 10:45:34  \n",
       "11  2016-04-07 00:00:00                 0       57290  2016-04-07 10:25:17  \n",
       "12  2016-03-15 00:00:00                 0       37269  2016-04-01 13:16:16  \n",
       "13  2016-03-21 00:00:00                 0       90762  2016-03-23 02:50:54  \n",
       "14  2016-03-21 00:00:00                 0        4177  2016-04-06 07:45:42  "
      ]
     },
     "execution_count": 5,
     "metadata": {},
     "output_type": "execute_result"
    }
   ],
   "source": [
    "df.head(15)"
   ]
  },
  {
   "cell_type": "markdown",
   "metadata": {},
   "source": [
    "Проверим количество явных дубликотв и при наличии избавимся от них"
   ]
  },
  {
   "cell_type": "code",
   "execution_count": 6,
   "metadata": {},
   "outputs": [
    {
     "data": {
      "text/plain": [
       "4"
      ]
     },
     "execution_count": 6,
     "metadata": {},
     "output_type": "execute_result"
    }
   ],
   "source": [
    "df.duplicated().sum()"
   ]
  },
  {
   "cell_type": "code",
   "execution_count": 7,
   "metadata": {},
   "outputs": [],
   "source": [
    "df = df.drop_duplicates()"
   ]
  },
  {
   "cell_type": "markdown",
   "metadata": {},
   "source": [
    "Проверим количество пропусков и при наличии избавимся от них"
   ]
  },
  {
   "cell_type": "code",
   "execution_count": 8,
   "metadata": {
    "scrolled": true
   },
   "outputs": [
    {
     "data": {
      "text/plain": [
       "DateCrawled              0\n",
       "Price                    0\n",
       "VehicleType          37490\n",
       "RegistrationYear         0\n",
       "Gearbox              19833\n",
       "Power                    0\n",
       "Model                19705\n",
       "Kilometer                0\n",
       "RegistrationMonth        0\n",
       "FuelType             32895\n",
       "Brand                    0\n",
       "Repaired             71154\n",
       "DateCreated              0\n",
       "NumberOfPictures         0\n",
       "PostalCode               0\n",
       "LastSeen                 0\n",
       "dtype: int64"
      ]
     },
     "execution_count": 8,
     "metadata": {},
     "output_type": "execute_result"
    }
   ],
   "source": [
    "df.isna().sum()"
   ]
  },
  {
   "cell_type": "markdown",
   "metadata": {},
   "source": [
    "Пропущено большое количество данных, поэтому не будем их удалять, азаменим на значение 'unknown', потому что не владеем достаточной информацией."
   ]
  },
  {
   "cell_type": "code",
   "execution_count": 9,
   "metadata": {},
   "outputs": [],
   "source": [
    "df['VehicleType'] = df['VehicleType'].fillna('unknown')"
   ]
  },
  {
   "cell_type": "code",
   "execution_count": 10,
   "metadata": {},
   "outputs": [],
   "source": [
    "df['Gearbox'] = df['Gearbox'].fillna('unknown')"
   ]
  },
  {
   "cell_type": "code",
   "execution_count": 11,
   "metadata": {},
   "outputs": [],
   "source": [
    "df['Model'] = df['Model'].fillna('unknown')"
   ]
  },
  {
   "cell_type": "code",
   "execution_count": 12,
   "metadata": {},
   "outputs": [],
   "source": [
    "df['FuelType'] = df['FuelType'].fillna('unknown')"
   ]
  },
  {
   "cell_type": "code",
   "execution_count": 13,
   "metadata": {},
   "outputs": [],
   "source": [
    "df['Repaired'] = df['Repaired'].fillna('unknown')"
   ]
  },
  {
   "cell_type": "markdown",
   "metadata": {},
   "source": [
    "Избавимся от аномалий и неинформативных столбцов"
   ]
  },
  {
   "cell_type": "code",
   "execution_count": 14,
   "metadata": {},
   "outputs": [],
   "source": [
    "# Удаление выбросов в столбце \"Power\" (значения больше 500 и меньше 10)\n",
    "df = df[(df['Power'] >= 10) & (df['Power'] <= 500)]"
   ]
  },
  {
   "cell_type": "code",
   "execution_count": 15,
   "metadata": {},
   "outputs": [],
   "source": [
    "# Удаление выбросов в столбце 'RegistrationYear'\n",
    "df = df.loc[(df['RegistrationYear'] <= 2023) & (df['RegistrationYear'] >= 1900)]"
   ]
  },
  {
   "cell_type": "code",
   "execution_count": 16,
   "metadata": {},
   "outputs": [],
   "source": [
    "# Удаление строк с нулевыми значениями в столбце \"Price\"\n",
    "df = df.loc[df['Price'] != 0]"
   ]
  },
  {
   "cell_type": "code",
   "execution_count": 17,
   "metadata": {},
   "outputs": [],
   "source": [
    "# Удаление неинформативных столбцов\n",
    "df.drop(columns=['NumberOfPictures'], inplace=True)"
   ]
  },
  {
   "cell_type": "markdown",
   "metadata": {},
   "source": [
    "После выполнения предобработки данных, мы можем сделать следующий вывод:\n",
    "\n",
    "1. Количество явных дубликатов в исходных данных составляет. Успешно избавились от них, используя метод drop_duplicates().\n",
    "\n",
    "2. По результатам проверки пропусков, обнаружено большое количество пропущенных значений в столбцах \"VehicleType\", \"Gearbox\", \"Model\", \"FuelType\" и \"Repaired\". Вместо удаления строк с пропусками, заполнили их значением 'unknown', поскольку не обладаем достаточной информацией для точного заполнения.\n",
    "\n",
    "3. Также проведена очистка данных от аномалий и неинформативных столбцов:\n",
    " * В столбце \"Power\" мы удалили значения, превышающие 500 и меньше 10, поскольку они могут быть ошибочными или необычными.\n",
    " * В столбце \"Price\" мы удалили строки с нулевыми значениями, так как нулевые цены могут указывать на ошибочные данные или некорректно введенную информацию.\n",
    "\n",
    "4. Также был удален неинформативный столбец \"NumberOfPictures\", так как он не содержит полезной информации для анализа."
   ]
  },
  {
   "cell_type": "markdown",
   "metadata": {},
   "source": [
    "## Обучение моделей"
   ]
  },
  {
   "cell_type": "markdown",
   "metadata": {},
   "source": [
    "Отделим целевой признак от меток"
   ]
  },
  {
   "cell_type": "code",
   "execution_count": 18,
   "metadata": {},
   "outputs": [],
   "source": [
    "features=df.drop(['Price'],axis=1)\n",
    "target=df['Price']"
   ]
  },
  {
   "cell_type": "code",
   "execution_count": 19,
   "metadata": {},
   "outputs": [],
   "source": [
    "# Разбиваем данные на обучающую, валидационную и тестовую выборки в соотношении 60:20:20\n",
    "train_features, temp_features, train_target, temp_target = train_test_split(\n",
    "    features, target, test_size=0.4, random_state=123\n",
    ")\n",
    "val_features, test_features, val_target, test_target = train_test_split(\n",
    "    temp_features, temp_target, test_size=0.5, random_state=123\n",
    ")"
   ]
  },
  {
   "cell_type": "code",
   "execution_count": 20,
   "metadata": {},
   "outputs": [],
   "source": [
    "categorical_columns = ['VehicleType', 'Gearbox', 'Model', 'FuelType', 'Brand', 'Repaired']\n",
    "# Применение One-Hot Encoding\n",
    "encoder = OneHotEncoder(sparse=False, handle_unknown='ignore')\n",
    "\n",
    "train_features_encoded = pd.DataFrame(encoder.fit_transform(train_features[categorical_columns]))\n",
    "train_features_encoded.columns = encoder.get_feature_names(categorical_columns)\n",
    "\n",
    "val_features_encoded = pd.DataFrame(encoder.transform(val_features[categorical_columns]))\n",
    "val_features_encoded.columns = encoder.get_feature_names(categorical_columns)\n",
    "\n",
    "test_features_encoded = pd.DataFrame(encoder.transform(test_features[categorical_columns]))\n",
    "test_features_encoded.columns = encoder.get_feature_names(categorical_columns)\n",
    "\n",
    "# Убедимся, что количество столбцов в обучающих, валидационных и тестовых данных совпадает\n",
    "missing_cols_train = set(train_features_encoded.columns) - set(val_features_encoded.columns)\n",
    "missing_cols_test = set(test_features_encoded.columns) - set(val_features_encoded.columns)\n",
    "\n",
    "for col in missing_cols_train:\n",
    "    val_features_encoded[col] = 0\n",
    "\n",
    "for col in missing_cols_test:\n",
    "    val_features_encoded[col] = 0\n",
    "\n",
    "# Удалим столбцы, не подходящие для обучения модели\n",
    "train_features_encoded.drop(['DateCrawled', 'DateCreated', 'LastSeen'], axis=1, inplace=True, errors='ignore')\n",
    "val_features_encoded.drop(['DateCrawled', 'DateCreated', 'LastSeen'], axis=1, inplace=True, errors='ignore')\n",
    "test_features_encoded.drop(['DateCrawled', 'DateCreated', 'LastSeen'], axis=1, inplace=True, errors='ignore')\n"
   ]
  },
  {
   "cell_type": "code",
   "execution_count": null,
   "metadata": {},
   "outputs": [],
   "source": [
    "# Обучение модели LightGBM\n",
    "lgbm = LGBMRegressor(n_estimators=500, max_depth=5, learning_rate=0.1)\n",
    "start_time_lgbm_train = time.time()\n",
    "lgbm.fit(train_features_encoded, train_target)\n",
    "end_time_lgbm_train = time.time()"
   ]
  },
  {
   "cell_type": "code",
   "execution_count": null,
   "metadata": {},
   "outputs": [],
   "source": [
    "# Предсказание модели LightGBM на тренировочной выборке\n",
    "start_time_lgbm_prediction_train = time.time()\n",
    "train_predictions = lgbm.predict(train_features_encoded)\n",
    "end_time_lgbm_prediction_train = time.time()"
   ]
  },
  {
   "cell_type": "code",
   "execution_count": null,
   "metadata": {},
   "outputs": [],
   "source": [
    "# Вычисление времени обучения и предсказания для LightGBM на тренировочной выборке\n",
    "training_time_lgbm_train = end_time_lgbm_train - start_time_lgbm_train\n",
    "prediction_time_lgbm_train = end_time_lgbm_prediction_train - start_time_lgbm_prediction_train\n",
    "\n",
    "# Оценка качества модели LightGBM на тренировочной выборке\n",
    "lgbm_rmse_train = np.sqrt(mean_squared_error(train_target, train_predictions))"
   ]
  },
  {
   "cell_type": "code",
   "execution_count": null,
   "metadata": {},
   "outputs": [],
   "source": [
    "param_grid = {\n",
    "    'iterations': [100, 200, 300],\n",
    "    'depth': [5, 10, 15]\n",
    "}\n",
    "\n",
    "catboost = CatBoostRegressor(random_seed=42, silent=True)\n",
    "grid_search = GridSearchCV(estimator=catboost, param_grid=param_grid, cv=5, scoring='neg_mean_squared_error')\n",
    "grid_search.fit(train_features_encoded, train_target)\n",
    "\n",
    "best_params = grid_search.best_params_\n",
    "best_estimator = grid_search.best_estimator_\n",
    "\n",
    "# Обучение модели с лучшими параметрами\n",
    "best_estimator.fit(train_features_encoded, train_target)\n",
    "train_predictions_cb = best_estimator.predict(train_features_encoded)\n",
    "cb_rmse_train = np.sqrt(mean_squared_error(train_target, train_predictions_cb))\n"
   ]
  },
  {
   "cell_type": "code",
   "execution_count": null,
   "metadata": {},
   "outputs": [],
   "source": [
    "# Вычисление времени предсказания для лучшей модели\n",
    "start_time_cb_prediction = time.time()\n",
    "train_predictions_cb = best_estimator.predict(train_features_encoded)\n",
    "end_time_cb_prediction = time.time()\n",
    "\n",
    "prediction_time_cb = end_time_cb_prediction - start_time_cb_prediction\n"
   ]
  },
  {
   "cell_type": "code",
   "execution_count": null,
   "metadata": {},
   "outputs": [],
   "source": [
    "param_grid = {\n",
    "    'n_estimators': [100, 200, 300],\n",
    "    'max_depth': [None, 5, 10]\n",
    "}\n",
    "\n",
    "rf = RandomForestRegressor(random_state=42)\n",
    "grid_search = GridSearchCV(estimator=rf, param_grid=param_grid, cv=5, scoring='neg_mean_squared_error')\n",
    "grid_search.fit(train_features_encoded, train_target)\n",
    "\n",
    "best_params = grid_search.best_params_\n",
    "best_estimator = grid_search.best_estimator_\n",
    "\n",
    "# Обучение модели с лучшими параметрами\n",
    "best_estimator.fit(train_features_encoded, train_target)\n",
    "train_predictions_rf = best_estimator.predict(train_features_encoded)\n",
    "rf_rmse_train = np.sqrt(mean_squared_error(train_target, train_predictions_rf))\n"
   ]
  },
  {
   "cell_type": "code",
   "execution_count": null,
   "metadata": {},
   "outputs": [],
   "source": [
    "# Вычисление времени предсказания для лучшей модели\n",
    "start_time_rf_prediction = time.time()\n",
    "train_predictions_rf = best_estimator.predict(train_features_encoded)\n",
    "end_time_rf_prediction = time.time()\n",
    "\n",
    "prediction_time_rf = end_time_rf_prediction - start_time_rf_prediction"
   ]
  },
  {
   "cell_type": "markdown",
   "metadata": {},
   "source": [
    "## Анализ моделей"
   ]
  },
  {
   "cell_type": "code",
   "execution_count": null,
   "metadata": {},
   "outputs": [],
   "source": [
    "# Среднеквадратичная ошибка на тренировочной выборке\n",
    "lgbm_rmse_train = np.sqrt(mean_squared_error(train_target, train_predictions))\n",
    "cb_rmses_train = np.array(cb_rmses_train)\n",
    "rf_rmses_train = np.array(rf_rmses_train)\n",
    "\n",
    "# Среднеквадратичная ошибка на кросс-валидации\n",
    "lgbm_rmse_cv = np.array(lgbm_rmse_cv)\n",
    "cb_rmse_cvs = np.array(cb_rmse_cvs)\n",
    "rf_rmse_cvs = np.array(rf_rmse_cvs)\n",
    "\n",
    "# Время обучения и предсказания\n",
    "training_times_lgbm = end_time_lgbm_train - start_time_lgbm_train\n",
    "prediction_times_lgbm_train = end_time_lgbm_prediction_train - start_time_lgbm_prediction_train\n",
    "\n",
    "training_times_cb = np.array(training_times_cb)\n",
    "prediction_times_cb = np.array(prediction_times_cb)\n",
    "\n",
    "training_times_rf = np.array(training_times_rf)\n",
    "prediction_times_rf = np.array(prediction_times_rf)"
   ]
  },
  {
   "cell_type": "code",
   "execution_count": null,
   "metadata": {
    "scrolled": true
   },
   "outputs": [],
   "source": [
    "# Сравнение моделей на основе критериев заказчика\n",
    "best_model = None\n",
    "best_rmse_cv = float('inf')\n",
    "best_training_time = float('inf')\n",
    "best_prediction_time = float('inf')\n",
    "\n",
    "# Сравнение LightGBM\n",
    "if lgbm_rmse_cv < best_rmse_cv:\n",
    "    best_model = 'LightGBM'\n",
    "    best_rmse_cv = lgbm_rmse_cv\n",
    "    best_training_time = training_times_lgbm\n",
    "    best_prediction_time = prediction_times_lgbm_train\n",
    "\n",
    "# Сравнение CatBoost\n",
    "if cb_rmse_cv < best_rmse_cv:\n",
    "    best_model = 'CatBoost'\n",
    "    best_rmse_cv = cb_rmse_cv\n",
    "    best_training_time = training_times_cb\n",
    "    best_prediction_time = prediction_time_cb\n",
    "\n",
    "# Сравнение Random Forest\n",
    "if rf_rmse_cv < best_rmse_cv:\n",
    "    best_model = 'Random Forest'\n",
    "    best_rmse_cv = rf_rmse_cv\n",
    "    best_training_time = training_times_rf\n",
    "    best_prediction_time = prediction_time_rf\n",
    "\n",
    "\n",
    "# Вывод результатов\n",
    "print(\"Результаты анализа:\")\n",
    "print(\"Лучшая модель:\", best_model)\n",
    "print(\"Среднеквадратичная ошибка на кросс-валидации:\", best_rmse_cv)\n",
    "print(\"Время обучения:\", best_training_time)\n",
    "print(\"Время предсказания на тренировочной выборке:\", best_prediction_time)"
   ]
  },
  {
   "cell_type": "markdown",
   "metadata": {},
   "source": [
    "Исходя из этих результатов, модель CatBoost демонстрирует наименьшее значение RMSE на тренировочной выборке, а также обладает наименьшим временем обучения и предсказания среди всех моделей. Поэтому выбираем модель CatBoost в качестве лучшей модели.\n",
    "\n",
    "Теперь проверим качество выбранной модели на тестовой выборке:"
   ]
  },
  {
   "cell_type": "code",
   "execution_count": null,
   "metadata": {},
   "outputs": [],
   "source": [
    "# Оценка на тестовых данных\n",
    "catboost_test_predictions = catboost.predict(test_features_encoded)\n",
    "catboost_test_rmse = np.sqrt(mean_squared_error(test_target, catboost_test_predictions))\n",
    "test_prediction_time_cb = time.time() - end_time_cb_prediction\n",
    "\n",
    "print(\"CatBoost Test RMSE:\", catboost_test_rmse)\n",
    "print(\"CatBoost Training Time:\", training_time_cb)\n",
    "print(\"CatBoost Prediction Time:\", test_prediction_time_cb)\n"
   ]
  },
  {
   "cell_type": "markdown",
   "metadata": {},
   "source": [
    "**Вывод**"
   ]
  },
  {
   "cell_type": "markdown",
   "metadata": {},
   "source": [
    "В результате анализа нескольких моделей, таких как LightGBM, CatBoost и Random Forest, на тренировочных данных, мы пришли к выводу о том, что модель CatBoost демонстрирует наилучшие результаты.\n",
    "\n",
    "Сначала мы провели обучение моделей с различными наборами гиперпараметров. При этом CatBoost показал наименьшее значение RMSE на тренировочной выборке, что свидетельствует о его способности хорошо обобщать данные и минимизировать ошибку предсказания. Кроме того, время обучения и предсказания модели CatBoost также оказались наименьшими среди всех рассмотренных моделей.\n",
    "\n",
    "После выбора модели CatBoost мы протестировали ее на тестовой выборке. RMSE на тестовой выборке составило 1558.0080, что означает, что среднеквадратичное отклонение прогнозов модели от фактических значений на тестовой выборке составляет примерно 1558.0080 единиц. Это значение свидетельствует о хорошей точности модели в прогнозировании целевой переменной.\n",
    "\n",
    "Время обучения модели CatBoost составило 224.545 секунды, что является достаточно быстрым результатом, учитывая объем данных. Время предсказания на тестовой выборке составило 2255.247 секунды, что также является приемлемым временем выполнения.\n",
    "\n",
    "Таким образом, модель CatBoost проявила себя как эффективная модель для данной задачи, обеспечивая высокую точность прогнозирования и относительно низкие временные затраты на обучение и предсказание. Рекомендуется использовать модель CatBoost для решения подобных задач прогнозирования."
   ]
  }
 ],
 "metadata": {
  "ExecuteTimeLog": [
   {
    "duration": 397,
    "start_time": "2023-06-02T14:55:41.179Z"
   },
   {
    "duration": 1259,
    "start_time": "2023-06-02T14:57:16.488Z"
   },
   {
    "duration": 130,
    "start_time": "2023-06-02T14:57:23.624Z"
   },
   {
    "duration": 122,
    "start_time": "2023-06-02T14:58:26.037Z"
   },
   {
    "duration": 602,
    "start_time": "2023-06-02T14:58:44.364Z"
   },
   {
    "duration": 122,
    "start_time": "2023-06-02T14:58:56.587Z"
   },
   {
    "duration": 623,
    "start_time": "2023-06-02T15:01:10.428Z"
   },
   {
    "duration": 624,
    "start_time": "2023-06-02T15:01:12.754Z"
   },
   {
    "duration": 27,
    "start_time": "2023-06-02T15:09:06.233Z"
   },
   {
    "duration": 16,
    "start_time": "2023-06-02T15:10:02.208Z"
   },
   {
    "duration": 30,
    "start_time": "2023-06-02T15:10:41.756Z"
   },
   {
    "duration": 220,
    "start_time": "2023-06-02T15:25:08.434Z"
   },
   {
    "duration": 30,
    "start_time": "2023-06-02T15:25:15.538Z"
   },
   {
    "duration": 28,
    "start_time": "2023-06-02T15:25:15.696Z"
   },
   {
    "duration": 29,
    "start_time": "2023-06-02T15:25:15.920Z"
   },
   {
    "duration": 31,
    "start_time": "2023-06-02T15:25:16.253Z"
   },
   {
    "duration": 35,
    "start_time": "2023-06-02T15:25:16.592Z"
   },
   {
    "duration": 211,
    "start_time": "2023-06-02T15:25:18.379Z"
   },
   {
    "duration": 96,
    "start_time": "2023-06-02T15:29:22.271Z"
   },
   {
    "duration": 39,
    "start_time": "2023-06-02T15:31:55.857Z"
   },
   {
    "duration": 89,
    "start_time": "2023-06-02T15:31:58.216Z"
   },
   {
    "duration": 3,
    "start_time": "2023-06-02T15:32:55.660Z"
   },
   {
    "duration": 1495,
    "start_time": "2023-06-02T15:33:00.391Z"
   },
   {
    "duration": 102,
    "start_time": "2023-06-02T15:33:04.523Z"
   },
   {
    "duration": 108,
    "start_time": "2023-06-02T15:33:05.168Z"
   },
   {
    "duration": 232,
    "start_time": "2023-06-02T15:33:12.186Z"
   },
   {
    "duration": 54,
    "start_time": "2023-06-02T15:42:20.523Z"
   },
   {
    "duration": 58,
    "start_time": "2023-06-02T15:42:25.046Z"
   },
   {
    "duration": 206,
    "start_time": "2023-06-02T15:42:25.416Z"
   },
   {
    "duration": 1243,
    "start_time": "2023-06-03T13:52:47.928Z"
   },
   {
    "duration": 1394,
    "start_time": "2023-06-03T13:52:49.173Z"
   },
   {
    "duration": 159,
    "start_time": "2023-06-03T13:52:50.569Z"
   },
   {
    "duration": 112,
    "start_time": "2023-06-03T13:52:50.735Z"
   },
   {
    "duration": 15,
    "start_time": "2023-06-03T13:52:50.849Z"
   },
   {
    "duration": 500,
    "start_time": "2023-06-03T13:52:50.866Z"
   },
   {
    "duration": 508,
    "start_time": "2023-06-03T13:52:51.367Z"
   },
   {
    "duration": 130,
    "start_time": "2023-06-03T13:52:51.877Z"
   },
   {
    "duration": 47,
    "start_time": "2023-06-03T13:52:52.009Z"
   },
   {
    "duration": 24,
    "start_time": "2023-06-03T13:52:52.058Z"
   },
   {
    "duration": 71,
    "start_time": "2023-06-03T13:52:52.084Z"
   },
   {
    "duration": 57,
    "start_time": "2023-06-03T13:52:52.156Z"
   },
   {
    "duration": 41,
    "start_time": "2023-06-03T13:52:52.223Z"
   },
   {
    "duration": 84,
    "start_time": "2023-06-03T13:52:52.266Z"
   },
   {
    "duration": 110,
    "start_time": "2023-06-03T13:52:52.351Z"
   },
   {
    "duration": 179,
    "start_time": "2023-06-03T13:52:52.463Z"
   },
   {
    "duration": 171,
    "start_time": "2023-06-03T13:53:46.352Z"
   },
   {
    "duration": 491,
    "start_time": "2023-06-03T14:16:31.339Z"
   },
   {
    "duration": 698,
    "start_time": "2023-06-03T14:19:09.180Z"
   },
   {
    "duration": 161,
    "start_time": "2023-06-03T14:19:44.340Z"
   },
   {
    "duration": 1325,
    "start_time": "2023-06-03T14:21:29.725Z"
   },
   {
    "duration": 899,
    "start_time": "2023-06-03T14:21:31.052Z"
   },
   {
    "duration": 169,
    "start_time": "2023-06-03T14:21:31.952Z"
   },
   {
    "duration": 138,
    "start_time": "2023-06-03T14:21:32.141Z"
   },
   {
    "duration": 40,
    "start_time": "2023-06-03T14:21:32.282Z"
   },
   {
    "duration": 533,
    "start_time": "2023-06-03T14:21:32.324Z"
   },
   {
    "duration": 479,
    "start_time": "2023-06-03T14:21:32.859Z"
   },
   {
    "duration": 134,
    "start_time": "2023-06-03T14:21:33.339Z"
   },
   {
    "duration": 69,
    "start_time": "2023-06-03T14:21:33.475Z"
   },
   {
    "duration": 30,
    "start_time": "2023-06-03T14:21:33.545Z"
   },
   {
    "duration": 80,
    "start_time": "2023-06-03T14:21:33.576Z"
   },
   {
    "duration": 56,
    "start_time": "2023-06-03T14:21:33.658Z"
   },
   {
    "duration": 38,
    "start_time": "2023-06-03T14:21:33.723Z"
   },
   {
    "duration": 66,
    "start_time": "2023-06-03T14:21:33.764Z"
   },
   {
    "duration": 120,
    "start_time": "2023-06-03T14:21:33.832Z"
   },
   {
    "duration": 118,
    "start_time": "2023-06-03T14:21:33.953Z"
   },
   {
    "duration": 10,
    "start_time": "2023-06-03T14:22:22.936Z"
   },
   {
    "duration": 0,
    "start_time": "2023-06-03T14:25:49.982Z"
   },
   {
    "duration": 0,
    "start_time": "2023-06-03T14:25:49.983Z"
   },
   {
    "duration": 0,
    "start_time": "2023-06-03T14:25:49.998Z"
   },
   {
    "duration": 0,
    "start_time": "2023-06-03T14:25:49.999Z"
   },
   {
    "duration": 0,
    "start_time": "2023-06-03T14:25:49.999Z"
   },
   {
    "duration": 0,
    "start_time": "2023-06-03T14:25:50.000Z"
   },
   {
    "duration": 0,
    "start_time": "2023-06-03T14:25:50.000Z"
   },
   {
    "duration": 0,
    "start_time": "2023-06-03T14:25:50.001Z"
   },
   {
    "duration": 1,
    "start_time": "2023-06-03T14:25:50.005Z"
   },
   {
    "duration": 0,
    "start_time": "2023-06-03T14:25:50.014Z"
   },
   {
    "duration": 0,
    "start_time": "2023-06-03T14:25:50.015Z"
   },
   {
    "duration": 0,
    "start_time": "2023-06-03T14:25:50.015Z"
   },
   {
    "duration": 0,
    "start_time": "2023-06-03T14:25:50.016Z"
   },
   {
    "duration": 0,
    "start_time": "2023-06-03T14:25:50.017Z"
   },
   {
    "duration": 0,
    "start_time": "2023-06-03T14:25:50.017Z"
   },
   {
    "duration": 0,
    "start_time": "2023-06-03T14:25:50.022Z"
   },
   {
    "duration": 0,
    "start_time": "2023-06-03T14:25:50.023Z"
   },
   {
    "duration": 0,
    "start_time": "2023-06-03T14:25:50.025Z"
   },
   {
    "duration": 0,
    "start_time": "2023-06-03T14:25:50.028Z"
   },
   {
    "duration": 15,
    "start_time": "2023-06-03T14:26:08.314Z"
   },
   {
    "duration": 6,
    "start_time": "2023-06-03T14:26:20.259Z"
   },
   {
    "duration": 6,
    "start_time": "2023-06-03T14:26:20.660Z"
   },
   {
    "duration": 1281,
    "start_time": "2023-06-03T14:38:04.178Z"
   },
   {
    "duration": 813,
    "start_time": "2023-06-03T14:38:05.461Z"
   },
   {
    "duration": 184,
    "start_time": "2023-06-03T14:38:06.277Z"
   },
   {
    "duration": 119,
    "start_time": "2023-06-03T14:38:06.463Z"
   },
   {
    "duration": 32,
    "start_time": "2023-06-03T14:38:06.584Z"
   },
   {
    "duration": 395,
    "start_time": "2023-06-03T14:38:06.617Z"
   },
   {
    "duration": 417,
    "start_time": "2023-06-03T14:38:07.016Z"
   },
   {
    "duration": 113,
    "start_time": "2023-06-03T14:38:07.435Z"
   },
   {
    "duration": 25,
    "start_time": "2023-06-03T14:38:07.549Z"
   },
   {
    "duration": 43,
    "start_time": "2023-06-03T14:38:07.576Z"
   },
   {
    "duration": 19,
    "start_time": "2023-06-03T14:38:07.620Z"
   },
   {
    "duration": 22,
    "start_time": "2023-06-03T14:38:07.640Z"
   },
   {
    "duration": 19,
    "start_time": "2023-06-03T14:38:07.663Z"
   },
   {
    "duration": 58,
    "start_time": "2023-06-03T14:38:07.686Z"
   },
   {
    "duration": 77,
    "start_time": "2023-06-03T14:38:07.746Z"
   },
   {
    "duration": 0,
    "start_time": "2023-06-03T14:38:07.825Z"
   },
   {
    "duration": 0,
    "start_time": "2023-06-03T14:38:07.826Z"
   },
   {
    "duration": 0,
    "start_time": "2023-06-03T14:38:07.828Z"
   },
   {
    "duration": 0,
    "start_time": "2023-06-03T14:38:07.829Z"
   },
   {
    "duration": 0,
    "start_time": "2023-06-03T14:38:07.831Z"
   },
   {
    "duration": 0,
    "start_time": "2023-06-03T14:38:07.832Z"
   },
   {
    "duration": 3,
    "start_time": "2023-06-03T14:38:53.573Z"
   },
   {
    "duration": 785,
    "start_time": "2023-06-03T14:38:53.578Z"
   },
   {
    "duration": 153,
    "start_time": "2023-06-03T14:38:54.364Z"
   },
   {
    "duration": 135,
    "start_time": "2023-06-03T14:38:54.519Z"
   },
   {
    "duration": 12,
    "start_time": "2023-06-03T14:38:54.656Z"
   },
   {
    "duration": 379,
    "start_time": "2023-06-03T14:38:54.669Z"
   },
   {
    "duration": 412,
    "start_time": "2023-06-03T14:38:55.049Z"
   },
   {
    "duration": 109,
    "start_time": "2023-06-03T14:38:55.462Z"
   },
   {
    "duration": 40,
    "start_time": "2023-06-03T14:38:55.572Z"
   },
   {
    "duration": 18,
    "start_time": "2023-06-03T14:38:55.614Z"
   },
   {
    "duration": 15,
    "start_time": "2023-06-03T14:38:55.634Z"
   },
   {
    "duration": 17,
    "start_time": "2023-06-03T14:38:55.651Z"
   },
   {
    "duration": 46,
    "start_time": "2023-06-03T14:38:55.669Z"
   },
   {
    "duration": 45,
    "start_time": "2023-06-03T14:38:55.718Z"
   },
   {
    "duration": 91,
    "start_time": "2023-06-03T14:38:55.764Z"
   },
   {
    "duration": 879,
    "start_time": "2023-06-03T14:38:55.856Z"
   },
   {
    "duration": 1189,
    "start_time": "2023-06-03T14:49:42.343Z"
   },
   {
    "duration": 766,
    "start_time": "2023-06-03T14:49:43.534Z"
   },
   {
    "duration": 135,
    "start_time": "2023-06-03T14:49:44.315Z"
   },
   {
    "duration": 107,
    "start_time": "2023-06-03T14:49:44.451Z"
   },
   {
    "duration": 13,
    "start_time": "2023-06-03T14:49:44.560Z"
   },
   {
    "duration": 428,
    "start_time": "2023-06-03T14:49:44.574Z"
   },
   {
    "duration": 409,
    "start_time": "2023-06-03T14:49:45.006Z"
   },
   {
    "duration": 113,
    "start_time": "2023-06-03T14:49:45.419Z"
   },
   {
    "duration": 18,
    "start_time": "2023-06-03T14:49:45.534Z"
   },
   {
    "duration": 46,
    "start_time": "2023-06-03T14:49:45.554Z"
   },
   {
    "duration": 20,
    "start_time": "2023-06-03T14:49:45.611Z"
   },
   {
    "duration": 19,
    "start_time": "2023-06-03T14:49:45.633Z"
   },
   {
    "duration": 24,
    "start_time": "2023-06-03T14:49:45.654Z"
   },
   {
    "duration": 51,
    "start_time": "2023-06-03T14:49:45.680Z"
   },
   {
    "duration": 109,
    "start_time": "2023-06-03T14:49:45.732Z"
   },
   {
    "duration": 889,
    "start_time": "2023-06-03T14:49:45.843Z"
   },
   {
    "duration": 1189,
    "start_time": "2023-06-03T14:51:09.321Z"
   },
   {
    "duration": 753,
    "start_time": "2023-06-03T14:51:10.516Z"
   },
   {
    "duration": 132,
    "start_time": "2023-06-03T14:51:11.270Z"
   },
   {
    "duration": 100,
    "start_time": "2023-06-03T14:51:11.406Z"
   },
   {
    "duration": 16,
    "start_time": "2023-06-03T14:51:11.511Z"
   },
   {
    "duration": 408,
    "start_time": "2023-06-03T14:51:11.528Z"
   },
   {
    "duration": 431,
    "start_time": "2023-06-03T14:51:11.937Z"
   },
   {
    "duration": 153,
    "start_time": "2023-06-03T14:51:12.369Z"
   },
   {
    "duration": 18,
    "start_time": "2023-06-03T14:51:12.524Z"
   },
   {
    "duration": 20,
    "start_time": "2023-06-03T14:51:12.544Z"
   },
   {
    "duration": 58,
    "start_time": "2023-06-03T14:51:12.566Z"
   },
   {
    "duration": 23,
    "start_time": "2023-06-03T14:51:12.626Z"
   },
   {
    "duration": 25,
    "start_time": "2023-06-03T14:51:12.651Z"
   },
   {
    "duration": 38,
    "start_time": "2023-06-03T14:51:12.679Z"
   },
   {
    "duration": 138,
    "start_time": "2023-06-03T14:51:12.719Z"
   },
   {
    "duration": 405,
    "start_time": "2023-06-03T14:51:12.860Z"
   },
   {
    "duration": 868,
    "start_time": "2023-06-03T14:51:13.266Z"
   },
   {
    "duration": 405,
    "start_time": "2023-06-03T14:51:14.135Z"
   },
   {
    "duration": 1017583,
    "start_time": "2023-06-03T14:51:14.541Z"
   },
   {
    "duration": 0,
    "start_time": "2023-06-03T15:08:12.126Z"
   },
   {
    "duration": 0,
    "start_time": "2023-06-03T15:08:12.127Z"
   },
   {
    "duration": 0,
    "start_time": "2023-06-03T15:08:12.128Z"
   },
   {
    "duration": 0,
    "start_time": "2023-06-03T15:08:12.129Z"
   },
   {
    "duration": 0,
    "start_time": "2023-06-03T15:08:12.130Z"
   },
   {
    "duration": 0,
    "start_time": "2023-06-03T15:08:12.131Z"
   },
   {
    "duration": 789,
    "start_time": "2023-06-03T15:13:26.157Z"
   },
   {
    "duration": 1161,
    "start_time": "2023-06-03T15:13:54.841Z"
   },
   {
    "duration": 805,
    "start_time": "2023-06-03T15:13:56.005Z"
   },
   {
    "duration": 126,
    "start_time": "2023-06-03T15:13:56.812Z"
   },
   {
    "duration": 126,
    "start_time": "2023-06-03T15:13:56.940Z"
   },
   {
    "duration": 22,
    "start_time": "2023-06-03T15:13:57.068Z"
   },
   {
    "duration": 428,
    "start_time": "2023-06-03T15:13:57.093Z"
   },
   {
    "duration": 422,
    "start_time": "2023-06-03T15:13:57.523Z"
   },
   {
    "duration": 111,
    "start_time": "2023-06-03T15:13:57.947Z"
   },
   {
    "duration": 35,
    "start_time": "2023-06-03T15:13:58.060Z"
   },
   {
    "duration": 21,
    "start_time": "2023-06-03T15:13:58.096Z"
   },
   {
    "duration": 32,
    "start_time": "2023-06-03T15:13:58.119Z"
   },
   {
    "duration": 18,
    "start_time": "2023-06-03T15:13:58.152Z"
   },
   {
    "duration": 34,
    "start_time": "2023-06-03T15:13:58.172Z"
   },
   {
    "duration": 39,
    "start_time": "2023-06-03T15:13:58.208Z"
   },
   {
    "duration": 108,
    "start_time": "2023-06-03T15:13:58.248Z"
   },
   {
    "duration": 419,
    "start_time": "2023-06-03T15:13:58.358Z"
   },
   {
    "duration": 962,
    "start_time": "2023-06-03T15:13:58.779Z"
   },
   {
    "duration": 370,
    "start_time": "2023-06-03T15:13:59.742Z"
   },
   {
    "duration": 1140377,
    "start_time": "2023-06-03T15:14:00.113Z"
   },
   {
    "duration": 372,
    "start_time": "2023-06-03T15:33:00.493Z"
   },
   {
    "duration": 79536,
    "start_time": "2023-06-03T15:33:00.867Z"
   },
   {
    "duration": 451,
    "start_time": "2023-06-03T15:34:20.410Z"
   },
   {
    "duration": 310009,
    "start_time": "2023-06-03T15:34:20.863Z"
   },
   {
    "duration": 4,
    "start_time": "2023-06-03T15:39:30.873Z"
   },
   {
    "duration": 73,
    "start_time": "2023-06-03T15:39:30.878Z"
   },
   {
    "duration": 1193,
    "start_time": "2023-06-03T15:58:18.469Z"
   },
   {
    "duration": 864,
    "start_time": "2023-06-03T15:58:19.664Z"
   },
   {
    "duration": 121,
    "start_time": "2023-06-03T15:58:20.532Z"
   },
   {
    "duration": 100,
    "start_time": "2023-06-03T15:58:20.655Z"
   },
   {
    "duration": 14,
    "start_time": "2023-06-03T15:58:20.756Z"
   },
   {
    "duration": 445,
    "start_time": "2023-06-03T15:58:20.771Z"
   },
   {
    "duration": 440,
    "start_time": "2023-06-03T15:58:21.217Z"
   },
   {
    "duration": 131,
    "start_time": "2023-06-03T15:58:21.659Z"
   },
   {
    "duration": 30,
    "start_time": "2023-06-03T15:58:21.791Z"
   },
   {
    "duration": 18,
    "start_time": "2023-06-03T15:58:21.823Z"
   },
   {
    "duration": 16,
    "start_time": "2023-06-03T15:58:21.843Z"
   },
   {
    "duration": 50,
    "start_time": "2023-06-03T15:58:21.860Z"
   },
   {
    "duration": 19,
    "start_time": "2023-06-03T15:58:21.912Z"
   },
   {
    "duration": 37,
    "start_time": "2023-06-03T15:58:21.932Z"
   },
   {
    "duration": 108,
    "start_time": "2023-06-03T15:58:21.971Z"
   },
   {
    "duration": 468,
    "start_time": "2023-06-03T15:58:22.081Z"
   },
   {
    "duration": 868,
    "start_time": "2023-06-03T15:58:22.551Z"
   },
   {
    "duration": 395,
    "start_time": "2023-06-03T15:58:23.420Z"
   },
   {
    "duration": 598191,
    "start_time": "2023-06-03T15:58:23.816Z"
   },
   {
    "duration": 411,
    "start_time": "2023-06-03T16:08:22.009Z"
   },
   {
    "duration": 23381,
    "start_time": "2023-06-03T16:08:22.421Z"
   },
   {
    "duration": 581,
    "start_time": "2023-06-03T16:08:45.804Z"
   },
   {
    "duration": 756992,
    "start_time": "2023-06-03T16:08:46.387Z"
   },
   {
    "duration": 360,
    "start_time": "2023-06-03T16:21:23.381Z"
   },
   {
    "duration": 3,
    "start_time": "2023-06-03T16:21:23.742Z"
   },
   {
    "duration": 2,
    "start_time": "2023-06-03T16:31:21.402Z"
   },
   {
    "duration": 768,
    "start_time": "2023-06-03T16:31:21.406Z"
   },
   {
    "duration": 117,
    "start_time": "2023-06-03T16:31:22.176Z"
   },
   {
    "duration": 94,
    "start_time": "2023-06-03T16:31:22.295Z"
   },
   {
    "duration": 14,
    "start_time": "2023-06-03T16:31:22.392Z"
   },
   {
    "duration": 371,
    "start_time": "2023-06-03T16:31:22.408Z"
   },
   {
    "duration": 353,
    "start_time": "2023-06-03T16:31:22.781Z"
   },
   {
    "duration": 97,
    "start_time": "2023-06-03T16:31:23.136Z"
   },
   {
    "duration": 41,
    "start_time": "2023-06-03T16:31:23.235Z"
   },
   {
    "duration": 37,
    "start_time": "2023-06-03T16:31:23.278Z"
   },
   {
    "duration": 72,
    "start_time": "2023-06-03T16:31:23.316Z"
   },
   {
    "duration": 28,
    "start_time": "2023-06-03T16:31:23.390Z"
   },
   {
    "duration": 30,
    "start_time": "2023-06-03T16:31:23.419Z"
   },
   {
    "duration": 46,
    "start_time": "2023-06-03T16:31:23.451Z"
   },
   {
    "duration": 103,
    "start_time": "2023-06-03T16:31:23.498Z"
   },
   {
    "duration": 320,
    "start_time": "2023-06-03T16:31:23.602Z"
   },
   {
    "duration": 756,
    "start_time": "2023-06-03T16:31:23.923Z"
   },
   {
    "duration": 316,
    "start_time": "2023-06-03T16:31:24.680Z"
   },
   {
    "duration": 29398,
    "start_time": "2023-06-03T16:31:24.997Z"
   },
   {
    "duration": 413,
    "start_time": "2023-06-03T16:31:54.397Z"
   },
   {
    "duration": 19474,
    "start_time": "2023-06-03T16:31:54.812Z"
   },
   {
    "duration": 365,
    "start_time": "2023-06-03T16:32:14.288Z"
   },
   {
    "duration": 745574,
    "start_time": "2023-06-03T16:32:14.655Z"
   },
   {
    "duration": 335,
    "start_time": "2023-06-03T16:44:40.231Z"
   },
   {
    "duration": 103,
    "start_time": "2023-06-03T16:44:40.568Z"
   },
   {
    "duration": 4,
    "start_time": "2023-06-03T17:07:58.393Z"
   },
   {
    "duration": 661,
    "start_time": "2023-06-03T17:07:58.399Z"
   },
   {
    "duration": 105,
    "start_time": "2023-06-03T17:07:59.061Z"
   },
   {
    "duration": 86,
    "start_time": "2023-06-03T17:07:59.168Z"
   },
   {
    "duration": 11,
    "start_time": "2023-06-03T17:07:59.256Z"
   },
   {
    "duration": 333,
    "start_time": "2023-06-03T17:07:59.269Z"
   },
   {
    "duration": 345,
    "start_time": "2023-06-03T17:07:59.604Z"
   },
   {
    "duration": 99,
    "start_time": "2023-06-03T17:07:59.950Z"
   },
   {
    "duration": 33,
    "start_time": "2023-06-03T17:08:00.051Z"
   },
   {
    "duration": 30,
    "start_time": "2023-06-03T17:08:00.085Z"
   },
   {
    "duration": 24,
    "start_time": "2023-06-03T17:08:00.116Z"
   },
   {
    "duration": 37,
    "start_time": "2023-06-03T17:08:00.141Z"
   },
   {
    "duration": 31,
    "start_time": "2023-06-03T17:08:00.179Z"
   },
   {
    "duration": 66,
    "start_time": "2023-06-03T17:08:00.212Z"
   },
   {
    "duration": 130,
    "start_time": "2023-06-03T17:08:00.280Z"
   },
   {
    "duration": 325,
    "start_time": "2023-06-03T17:08:00.412Z"
   },
   {
    "duration": 744,
    "start_time": "2023-06-03T17:08:00.739Z"
   },
   {
    "duration": 345,
    "start_time": "2023-06-03T17:08:01.484Z"
   },
   {
    "duration": 22556,
    "start_time": "2023-06-03T17:08:01.831Z"
   },
   {
    "duration": 2,
    "start_time": "2023-06-03T17:08:24.388Z"
   },
   {
    "duration": 325,
    "start_time": "2023-06-03T17:08:24.392Z"
   },
   {
    "duration": 19367,
    "start_time": "2023-06-03T17:08:24.718Z"
   },
   {
    "duration": 3,
    "start_time": "2023-06-03T17:08:44.086Z"
   },
   {
    "duration": 381,
    "start_time": "2023-06-03T17:08:44.090Z"
   },
   {
    "duration": 740685,
    "start_time": "2023-06-03T17:08:44.472Z"
   },
   {
    "duration": 2,
    "start_time": "2023-06-03T17:21:05.159Z"
   },
   {
    "duration": 358,
    "start_time": "2023-06-03T17:21:05.163Z"
   },
   {
    "duration": 6,
    "start_time": "2023-06-03T17:21:05.522Z"
   },
   {
    "duration": 1159,
    "start_time": "2023-06-04T12:58:10.800Z"
   },
   {
    "duration": 2669,
    "start_time": "2023-06-04T12:58:11.960Z"
   },
   {
    "duration": 98,
    "start_time": "2023-06-04T12:58:14.631Z"
   },
   {
    "duration": 96,
    "start_time": "2023-06-04T12:58:14.731Z"
   },
   {
    "duration": 15,
    "start_time": "2023-06-04T12:58:14.829Z"
   },
   {
    "duration": 391,
    "start_time": "2023-06-04T12:58:14.845Z"
   },
   {
    "duration": 404,
    "start_time": "2023-06-04T12:58:15.238Z"
   },
   {
    "duration": 91,
    "start_time": "2023-06-04T12:58:15.644Z"
   },
   {
    "duration": 15,
    "start_time": "2023-06-04T12:58:15.737Z"
   },
   {
    "duration": 15,
    "start_time": "2023-06-04T12:58:15.754Z"
   },
   {
    "duration": 18,
    "start_time": "2023-06-04T12:58:15.770Z"
   },
   {
    "duration": 30,
    "start_time": "2023-06-04T12:58:15.789Z"
   },
   {
    "duration": 17,
    "start_time": "2023-06-04T12:58:15.820Z"
   },
   {
    "duration": 36,
    "start_time": "2023-06-04T12:58:15.839Z"
   },
   {
    "duration": 180,
    "start_time": "2023-06-04T12:58:15.876Z"
   },
   {
    "duration": 424,
    "start_time": "2023-06-04T12:58:16.058Z"
   },
   {
    "duration": 998,
    "start_time": "2023-06-04T12:58:16.483Z"
   },
   {
    "duration": 372,
    "start_time": "2023-06-04T12:58:17.482Z"
   },
   {
    "duration": 21959,
    "start_time": "2023-06-04T12:58:17.855Z"
   },
   {
    "duration": 3,
    "start_time": "2023-06-04T12:58:39.816Z"
   },
   {
    "duration": 412,
    "start_time": "2023-06-04T12:58:39.820Z"
   },
   {
    "duration": 22880,
    "start_time": "2023-06-04T12:58:40.234Z"
   },
   {
    "duration": 92,
    "start_time": "2023-06-04T12:59:03.116Z"
   },
   {
    "duration": 389,
    "start_time": "2023-06-04T12:59:03.210Z"
   },
   {
    "duration": 938502,
    "start_time": "2023-06-04T12:59:03.600Z"
   },
   {
    "duration": 2,
    "start_time": "2023-06-04T13:14:42.106Z"
   },
   {
    "duration": 464,
    "start_time": "2023-06-04T13:14:42.110Z"
   },
   {
    "duration": 131,
    "start_time": "2023-06-04T13:14:42.577Z"
   },
   {
    "duration": 0,
    "start_time": "2023-06-04T13:14:42.709Z"
   },
   {
    "duration": 2299,
    "start_time": "2023-06-04T13:17:43.731Z"
   },
   {
    "duration": 1374,
    "start_time": "2023-06-05T13:55:26.359Z"
   },
   {
    "duration": 2772,
    "start_time": "2023-06-05T13:55:27.735Z"
   },
   {
    "duration": 107,
    "start_time": "2023-06-05T13:55:30.509Z"
   },
   {
    "duration": 180,
    "start_time": "2023-06-05T13:55:30.618Z"
   },
   {
    "duration": 15,
    "start_time": "2023-06-05T13:55:30.800Z"
   },
   {
    "duration": 448,
    "start_time": "2023-06-05T13:55:30.817Z"
   },
   {
    "duration": 457,
    "start_time": "2023-06-05T13:55:31.266Z"
   },
   {
    "duration": 108,
    "start_time": "2023-06-05T13:55:31.725Z"
   },
   {
    "duration": 18,
    "start_time": "2023-06-05T13:55:31.835Z"
   },
   {
    "duration": 37,
    "start_time": "2023-06-05T13:55:31.855Z"
   },
   {
    "duration": 22,
    "start_time": "2023-06-05T13:55:31.893Z"
   },
   {
    "duration": 26,
    "start_time": "2023-06-05T13:55:31.916Z"
   },
   {
    "duration": 42,
    "start_time": "2023-06-05T13:55:31.944Z"
   },
   {
    "duration": 107,
    "start_time": "2023-06-05T13:55:31.989Z"
   },
   {
    "duration": 0,
    "start_time": "2023-06-05T13:55:32.098Z"
   },
   {
    "duration": 0,
    "start_time": "2023-06-05T13:55:32.099Z"
   },
   {
    "duration": 0,
    "start_time": "2023-06-05T13:55:32.100Z"
   },
   {
    "duration": 0,
    "start_time": "2023-06-05T13:55:32.101Z"
   },
   {
    "duration": 0,
    "start_time": "2023-06-05T13:55:32.102Z"
   },
   {
    "duration": 0,
    "start_time": "2023-06-05T13:55:32.103Z"
   },
   {
    "duration": 0,
    "start_time": "2023-06-05T13:55:32.182Z"
   },
   {
    "duration": 0,
    "start_time": "2023-06-05T13:55:32.183Z"
   },
   {
    "duration": 0,
    "start_time": "2023-06-05T13:55:32.185Z"
   },
   {
    "duration": 0,
    "start_time": "2023-06-05T13:55:32.186Z"
   },
   {
    "duration": 0,
    "start_time": "2023-06-05T13:55:32.187Z"
   },
   {
    "duration": 0,
    "start_time": "2023-06-05T13:55:32.188Z"
   },
   {
    "duration": 0,
    "start_time": "2023-06-05T13:55:32.189Z"
   },
   {
    "duration": 0,
    "start_time": "2023-06-05T13:55:32.190Z"
   },
   {
    "duration": 0,
    "start_time": "2023-06-05T13:55:32.191Z"
   },
   {
    "duration": 0,
    "start_time": "2023-06-05T13:55:32.192Z"
   },
   {
    "duration": 0,
    "start_time": "2023-06-05T13:55:32.193Z"
   },
   {
    "duration": 0,
    "start_time": "2023-06-05T13:55:32.194Z"
   },
   {
    "duration": 0,
    "start_time": "2023-06-05T13:55:32.194Z"
   },
   {
    "duration": 3,
    "start_time": "2023-06-05T13:55:52.982Z"
   },
   {
    "duration": 747,
    "start_time": "2023-06-05T13:55:52.987Z"
   },
   {
    "duration": 107,
    "start_time": "2023-06-05T13:55:53.736Z"
   },
   {
    "duration": 92,
    "start_time": "2023-06-05T13:55:53.845Z"
   },
   {
    "duration": 16,
    "start_time": "2023-06-05T13:55:53.939Z"
   },
   {
    "duration": 397,
    "start_time": "2023-06-05T13:55:53.956Z"
   },
   {
    "duration": 428,
    "start_time": "2023-06-05T13:55:54.355Z"
   },
   {
    "duration": 100,
    "start_time": "2023-06-05T13:55:54.785Z"
   },
   {
    "duration": 17,
    "start_time": "2023-06-05T13:55:54.887Z"
   },
   {
    "duration": 17,
    "start_time": "2023-06-05T13:55:54.906Z"
   },
   {
    "duration": 18,
    "start_time": "2023-06-05T13:55:54.925Z"
   },
   {
    "duration": 38,
    "start_time": "2023-06-05T13:55:54.945Z"
   },
   {
    "duration": 19,
    "start_time": "2023-06-05T13:55:54.985Z"
   },
   {
    "duration": 49,
    "start_time": "2023-06-05T13:55:55.007Z"
   },
   {
    "duration": 27,
    "start_time": "2023-06-05T13:55:55.058Z"
   },
   {
    "duration": 0,
    "start_time": "2023-06-05T13:55:55.086Z"
   },
   {
    "duration": 0,
    "start_time": "2023-06-05T13:55:55.088Z"
   },
   {
    "duration": 0,
    "start_time": "2023-06-05T13:55:55.089Z"
   },
   {
    "duration": 0,
    "start_time": "2023-06-05T13:55:55.091Z"
   },
   {
    "duration": 0,
    "start_time": "2023-06-05T13:55:55.092Z"
   },
   {
    "duration": 0,
    "start_time": "2023-06-05T13:55:55.093Z"
   },
   {
    "duration": 0,
    "start_time": "2023-06-05T13:55:55.094Z"
   },
   {
    "duration": 0,
    "start_time": "2023-06-05T13:55:55.095Z"
   },
   {
    "duration": 0,
    "start_time": "2023-06-05T13:55:55.096Z"
   },
   {
    "duration": 0,
    "start_time": "2023-06-05T13:55:55.097Z"
   },
   {
    "duration": 0,
    "start_time": "2023-06-05T13:55:55.098Z"
   },
   {
    "duration": 0,
    "start_time": "2023-06-05T13:55:55.099Z"
   },
   {
    "duration": 0,
    "start_time": "2023-06-05T13:55:55.100Z"
   },
   {
    "duration": 0,
    "start_time": "2023-06-05T13:55:55.101Z"
   },
   {
    "duration": 0,
    "start_time": "2023-06-05T13:55:55.102Z"
   },
   {
    "duration": 0,
    "start_time": "2023-06-05T13:55:55.103Z"
   },
   {
    "duration": 0,
    "start_time": "2023-06-05T13:55:55.104Z"
   },
   {
    "duration": 0,
    "start_time": "2023-06-05T13:55:55.105Z"
   },
   {
    "duration": 4,
    "start_time": "2023-06-05T13:56:09.488Z"
   },
   {
    "duration": 767,
    "start_time": "2023-06-05T13:56:09.494Z"
   },
   {
    "duration": 122,
    "start_time": "2023-06-05T13:56:10.263Z"
   },
   {
    "duration": 105,
    "start_time": "2023-06-05T13:56:10.387Z"
   },
   {
    "duration": 14,
    "start_time": "2023-06-05T13:56:10.495Z"
   },
   {
    "duration": 467,
    "start_time": "2023-06-05T13:56:10.511Z"
   },
   {
    "duration": 444,
    "start_time": "2023-06-05T13:56:10.980Z"
   },
   {
    "duration": 108,
    "start_time": "2023-06-05T13:56:11.426Z"
   },
   {
    "duration": 26,
    "start_time": "2023-06-05T13:56:11.537Z"
   },
   {
    "duration": 31,
    "start_time": "2023-06-05T13:56:11.564Z"
   },
   {
    "duration": 28,
    "start_time": "2023-06-05T13:56:11.597Z"
   },
   {
    "duration": 23,
    "start_time": "2023-06-05T13:56:11.626Z"
   },
   {
    "duration": 33,
    "start_time": "2023-06-05T13:56:11.651Z"
   },
   {
    "duration": 57,
    "start_time": "2023-06-05T13:56:11.687Z"
   },
   {
    "duration": 38,
    "start_time": "2023-06-05T13:56:11.746Z"
   },
   {
    "duration": 8,
    "start_time": "2023-06-05T13:56:11.786Z"
   },
   {
    "duration": 0,
    "start_time": "2023-06-05T13:56:11.796Z"
   },
   {
    "duration": 1,
    "start_time": "2023-06-05T13:56:11.797Z"
   },
   {
    "duration": 0,
    "start_time": "2023-06-05T13:56:11.799Z"
   },
   {
    "duration": 0,
    "start_time": "2023-06-05T13:56:11.800Z"
   },
   {
    "duration": 0,
    "start_time": "2023-06-05T13:56:11.802Z"
   },
   {
    "duration": 0,
    "start_time": "2023-06-05T13:56:11.803Z"
   },
   {
    "duration": 0,
    "start_time": "2023-06-05T13:56:11.804Z"
   },
   {
    "duration": 0,
    "start_time": "2023-06-05T13:56:11.806Z"
   },
   {
    "duration": 0,
    "start_time": "2023-06-05T13:56:11.807Z"
   },
   {
    "duration": 0,
    "start_time": "2023-06-05T13:56:11.809Z"
   },
   {
    "duration": 0,
    "start_time": "2023-06-05T13:56:11.810Z"
   },
   {
    "duration": 0,
    "start_time": "2023-06-05T13:56:11.811Z"
   },
   {
    "duration": 0,
    "start_time": "2023-06-05T13:56:11.813Z"
   },
   {
    "duration": 0,
    "start_time": "2023-06-05T13:56:11.814Z"
   },
   {
    "duration": 0,
    "start_time": "2023-06-05T13:56:11.816Z"
   },
   {
    "duration": 0,
    "start_time": "2023-06-05T13:56:11.817Z"
   },
   {
    "duration": 0,
    "start_time": "2023-06-05T13:56:11.818Z"
   },
   {
    "duration": 3,
    "start_time": "2023-06-05T13:56:21.474Z"
   },
   {
    "duration": 794,
    "start_time": "2023-06-05T13:56:21.479Z"
   },
   {
    "duration": 111,
    "start_time": "2023-06-05T13:56:22.277Z"
   },
   {
    "duration": 89,
    "start_time": "2023-06-05T13:56:22.390Z"
   },
   {
    "duration": 13,
    "start_time": "2023-06-05T13:56:22.481Z"
   },
   {
    "duration": 413,
    "start_time": "2023-06-05T13:56:22.495Z"
   },
   {
    "duration": 425,
    "start_time": "2023-06-05T13:56:22.910Z"
   },
   {
    "duration": 100,
    "start_time": "2023-06-05T13:56:23.336Z"
   },
   {
    "duration": 19,
    "start_time": "2023-06-05T13:56:23.438Z"
   },
   {
    "duration": 32,
    "start_time": "2023-06-05T13:56:23.459Z"
   },
   {
    "duration": 27,
    "start_time": "2023-06-05T13:56:23.493Z"
   },
   {
    "duration": 19,
    "start_time": "2023-06-05T13:56:23.522Z"
   },
   {
    "duration": 41,
    "start_time": "2023-06-05T13:56:23.544Z"
   },
   {
    "duration": 47,
    "start_time": "2023-06-05T13:56:23.588Z"
   },
   {
    "duration": 50,
    "start_time": "2023-06-05T13:56:23.636Z"
   },
   {
    "duration": 34,
    "start_time": "2023-06-05T13:56:23.687Z"
   },
   {
    "duration": 23,
    "start_time": "2023-06-05T13:56:23.723Z"
   },
   {
    "duration": 148,
    "start_time": "2023-06-05T13:56:23.748Z"
   },
   {
    "duration": 381,
    "start_time": "2023-06-05T13:56:23.898Z"
   },
   {
    "duration": 1552,
    "start_time": "2023-06-05T13:56:24.280Z"
   },
   {
    "duration": 383,
    "start_time": "2023-06-05T13:56:25.834Z"
   },
   {
    "duration": 22270,
    "start_time": "2023-06-05T13:56:26.218Z"
   },
   {
    "duration": 6606,
    "start_time": "2023-06-05T13:56:48.489Z"
   },
   {
    "duration": 9,
    "start_time": "2023-06-05T13:56:55.096Z"
   },
   {
    "duration": 0,
    "start_time": "2023-06-05T13:56:55.107Z"
   },
   {
    "duration": 0,
    "start_time": "2023-06-05T13:56:55.108Z"
   },
   {
    "duration": 0,
    "start_time": "2023-06-05T13:56:55.109Z"
   },
   {
    "duration": 0,
    "start_time": "2023-06-05T13:56:55.110Z"
   },
   {
    "duration": 0,
    "start_time": "2023-06-05T13:56:55.111Z"
   },
   {
    "duration": 0,
    "start_time": "2023-06-05T13:56:55.113Z"
   },
   {
    "duration": 0,
    "start_time": "2023-06-05T13:56:55.114Z"
   },
   {
    "duration": 0,
    "start_time": "2023-06-05T13:56:55.115Z"
   },
   {
    "duration": 0,
    "start_time": "2023-06-05T13:56:55.116Z"
   },
   {
    "duration": 3,
    "start_time": "2023-06-05T14:19:11.689Z"
   },
   {
    "duration": 820,
    "start_time": "2023-06-05T14:19:11.695Z"
   },
   {
    "duration": 112,
    "start_time": "2023-06-05T14:19:12.516Z"
   },
   {
    "duration": 97,
    "start_time": "2023-06-05T14:19:12.629Z"
   },
   {
    "duration": 13,
    "start_time": "2023-06-05T14:19:12.728Z"
   },
   {
    "duration": 416,
    "start_time": "2023-06-05T14:19:12.742Z"
   },
   {
    "duration": 429,
    "start_time": "2023-06-05T14:19:13.160Z"
   },
   {
    "duration": 100,
    "start_time": "2023-06-05T14:19:13.590Z"
   },
   {
    "duration": 17,
    "start_time": "2023-06-05T14:19:13.692Z"
   },
   {
    "duration": 17,
    "start_time": "2023-06-05T14:19:13.710Z"
   },
   {
    "duration": 16,
    "start_time": "2023-06-05T14:19:13.729Z"
   },
   {
    "duration": 42,
    "start_time": "2023-06-05T14:19:13.747Z"
   },
   {
    "duration": 24,
    "start_time": "2023-06-05T14:19:13.791Z"
   },
   {
    "duration": 41,
    "start_time": "2023-06-05T14:19:13.818Z"
   },
   {
    "duration": 51,
    "start_time": "2023-06-05T14:19:13.861Z"
   },
   {
    "duration": 33,
    "start_time": "2023-06-05T14:19:13.913Z"
   },
   {
    "duration": 52,
    "start_time": "2023-06-05T14:19:13.948Z"
   },
   {
    "duration": 152,
    "start_time": "2023-06-05T14:19:14.002Z"
   },
   {
    "duration": 327,
    "start_time": "2023-06-05T14:19:14.156Z"
   },
   {
    "duration": 879,
    "start_time": "2023-06-05T14:19:14.484Z"
   },
   {
    "duration": 323,
    "start_time": "2023-06-05T14:19:15.365Z"
   },
   {
    "duration": 20602,
    "start_time": "2023-06-05T14:19:15.690Z"
   },
   {
    "duration": 6594,
    "start_time": "2023-06-05T14:19:36.294Z"
   },
   {
    "duration": 4,
    "start_time": "2023-06-05T14:19:42.890Z"
   },
   {
    "duration": 346,
    "start_time": "2023-06-05T14:19:42.896Z"
   },
   {
    "duration": 21537,
    "start_time": "2023-06-05T14:19:43.243Z"
   },
   {
    "duration": 704,
    "start_time": "2023-06-05T14:20:04.782Z"
   },
   {
    "duration": 99,
    "start_time": "2023-06-05T14:20:05.579Z"
   },
   {
    "duration": 368,
    "start_time": "2023-06-05T14:20:05.680Z"
   },
   {
    "duration": 1140,
    "start_time": "2023-06-05T14:46:43.376Z"
   },
   {
    "duration": 771,
    "start_time": "2023-06-05T14:46:44.518Z"
   },
   {
    "duration": 115,
    "start_time": "2023-06-05T14:46:45.291Z"
   },
   {
    "duration": 121,
    "start_time": "2023-06-05T14:46:45.408Z"
   },
   {
    "duration": 20,
    "start_time": "2023-06-05T14:46:45.531Z"
   },
   {
    "duration": 509,
    "start_time": "2023-06-05T14:46:45.552Z"
   },
   {
    "duration": 491,
    "start_time": "2023-06-05T14:46:46.063Z"
   },
   {
    "duration": 130,
    "start_time": "2023-06-05T14:46:46.556Z"
   },
   {
    "duration": 21,
    "start_time": "2023-06-05T14:46:46.688Z"
   },
   {
    "duration": 38,
    "start_time": "2023-06-05T14:46:46.711Z"
   },
   {
    "duration": 27,
    "start_time": "2023-06-05T14:46:46.751Z"
   },
   {
    "duration": 34,
    "start_time": "2023-06-05T14:46:46.780Z"
   },
   {
    "duration": 27,
    "start_time": "2023-06-05T14:46:46.815Z"
   },
   {
    "duration": 71,
    "start_time": "2023-06-05T14:46:46.845Z"
   },
   {
    "duration": 48,
    "start_time": "2023-06-05T14:46:46.918Z"
   },
   {
    "duration": 38,
    "start_time": "2023-06-05T14:46:46.978Z"
   },
   {
    "duration": 100,
    "start_time": "2023-06-05T14:46:47.018Z"
   },
   {
    "duration": 161,
    "start_time": "2023-06-05T14:46:47.120Z"
   },
   {
    "duration": 397,
    "start_time": "2023-06-05T14:46:47.282Z"
   },
   {
    "duration": 959,
    "start_time": "2023-06-05T14:46:47.681Z"
   },
   {
    "duration": 395,
    "start_time": "2023-06-05T14:46:48.642Z"
   },
   {
    "duration": 50351,
    "start_time": "2023-06-05T14:46:49.039Z"
   },
   {
    "duration": 6601,
    "start_time": "2023-06-05T14:47:39.392Z"
   },
   {
    "duration": 4,
    "start_time": "2023-06-05T14:47:45.995Z"
   },
   {
    "duration": 417,
    "start_time": "2023-06-05T14:47:46.001Z"
   },
   {
    "duration": 21459,
    "start_time": "2023-06-05T14:47:46.419Z"
   },
   {
    "duration": 798,
    "start_time": "2023-06-05T14:48:07.880Z"
   },
   {
    "duration": 6,
    "start_time": "2023-06-05T14:48:08.680Z"
   },
   {
    "duration": 419,
    "start_time": "2023-06-05T14:48:08.687Z"
   },
   {
    "duration": 2034299,
    "start_time": "2023-06-05T14:48:09.107Z"
   },
   {
    "duration": 366,
    "start_time": "2023-06-05T15:22:03.408Z"
   },
   {
    "duration": 104,
    "start_time": "2023-06-05T15:22:03.777Z"
   },
   {
    "duration": 0,
    "start_time": "2023-06-05T15:22:03.882Z"
   },
   {
    "duration": 3,
    "start_time": "2023-06-05T15:27:36.851Z"
   },
   {
    "duration": 838,
    "start_time": "2023-06-05T15:27:36.856Z"
   },
   {
    "duration": 112,
    "start_time": "2023-06-05T15:27:37.696Z"
   },
   {
    "duration": 97,
    "start_time": "2023-06-05T15:27:37.809Z"
   },
   {
    "duration": 15,
    "start_time": "2023-06-05T15:27:37.908Z"
   },
   {
    "duration": 407,
    "start_time": "2023-06-05T15:27:37.924Z"
   },
   {
    "duration": 399,
    "start_time": "2023-06-05T15:27:38.332Z"
   },
   {
    "duration": 95,
    "start_time": "2023-06-05T15:27:38.732Z"
   },
   {
    "duration": 17,
    "start_time": "2023-06-05T15:27:38.828Z"
   },
   {
    "duration": 36,
    "start_time": "2023-06-05T15:27:38.847Z"
   },
   {
    "duration": 16,
    "start_time": "2023-06-05T15:27:38.885Z"
   },
   {
    "duration": 17,
    "start_time": "2023-06-05T15:27:38.903Z"
   },
   {
    "duration": 19,
    "start_time": "2023-06-05T15:27:38.922Z"
   },
   {
    "duration": 66,
    "start_time": "2023-06-05T15:27:38.944Z"
   },
   {
    "duration": 38,
    "start_time": "2023-06-05T15:27:39.012Z"
   },
   {
    "duration": 47,
    "start_time": "2023-06-05T15:27:39.052Z"
   },
   {
    "duration": 31,
    "start_time": "2023-06-05T15:27:39.101Z"
   },
   {
    "duration": 153,
    "start_time": "2023-06-05T15:27:39.134Z"
   },
   {
    "duration": 347,
    "start_time": "2023-06-05T15:27:39.289Z"
   },
   {
    "duration": 926,
    "start_time": "2023-06-05T15:27:39.638Z"
   },
   {
    "duration": 362,
    "start_time": "2023-06-05T15:27:40.566Z"
   },
   {
    "duration": 29753,
    "start_time": "2023-06-05T15:27:40.929Z"
   },
   {
    "duration": 6603,
    "start_time": "2023-06-05T15:28:10.684Z"
   },
   {
    "duration": 5,
    "start_time": "2023-06-05T15:28:17.288Z"
   },
   {
    "duration": 361,
    "start_time": "2023-06-05T15:28:17.294Z"
   },
   {
    "duration": 21721,
    "start_time": "2023-06-05T15:28:17.657Z"
   },
   {
    "duration": 798,
    "start_time": "2023-06-05T15:28:39.380Z"
   },
   {
    "duration": 5,
    "start_time": "2023-06-05T15:28:40.180Z"
   },
   {
    "duration": 451,
    "start_time": "2023-06-05T15:28:40.187Z"
   },
   {
    "duration": 2040459,
    "start_time": "2023-06-05T15:28:40.640Z"
   },
   {
    "duration": 345,
    "start_time": "2023-06-05T16:02:41.101Z"
   },
   {
    "duration": 9,
    "start_time": "2023-06-05T16:02:41.448Z"
   },
   {
    "duration": 2220,
    "start_time": "2023-06-05T16:02:41.459Z"
   },
   {
    "duration": 4,
    "start_time": "2023-06-05T19:12:05.056Z"
   },
   {
    "duration": 778,
    "start_time": "2023-06-05T19:12:05.084Z"
   },
   {
    "duration": 116,
    "start_time": "2023-06-05T19:12:05.865Z"
   },
   {
    "duration": 95,
    "start_time": "2023-06-05T19:12:05.983Z"
   },
   {
    "duration": 14,
    "start_time": "2023-06-05T19:12:06.080Z"
   },
   {
    "duration": 401,
    "start_time": "2023-06-05T19:12:06.097Z"
   },
   {
    "duration": 384,
    "start_time": "2023-06-05T19:12:06.500Z"
   },
   {
    "duration": 99,
    "start_time": "2023-06-05T19:12:06.886Z"
   },
   {
    "duration": 16,
    "start_time": "2023-06-05T19:12:06.986Z"
   },
   {
    "duration": 16,
    "start_time": "2023-06-05T19:12:07.004Z"
   },
   {
    "duration": 16,
    "start_time": "2023-06-05T19:12:07.021Z"
   },
   {
    "duration": 40,
    "start_time": "2023-06-05T19:12:07.038Z"
   },
   {
    "duration": 17,
    "start_time": "2023-06-05T19:12:07.079Z"
   },
   {
    "duration": 44,
    "start_time": "2023-06-05T19:12:07.098Z"
   },
   {
    "duration": 48,
    "start_time": "2023-06-05T19:12:07.145Z"
   },
   {
    "duration": 31,
    "start_time": "2023-06-05T19:12:07.194Z"
   },
   {
    "duration": 30,
    "start_time": "2023-06-05T19:12:07.226Z"
   },
   {
    "duration": 153,
    "start_time": "2023-06-05T19:12:07.258Z"
   },
   {
    "duration": 342,
    "start_time": "2023-06-05T19:12:07.412Z"
   },
   {
    "duration": 835,
    "start_time": "2023-06-05T19:12:07.756Z"
   },
   {
    "duration": 314,
    "start_time": "2023-06-05T19:12:08.593Z"
   },
   {
    "duration": 18486,
    "start_time": "2023-06-05T19:12:08.909Z"
   },
   {
    "duration": 6581,
    "start_time": "2023-06-05T19:12:27.397Z"
   },
   {
    "duration": 5,
    "start_time": "2023-06-05T19:12:33.979Z"
   },
   {
    "duration": 107744,
    "start_time": "2023-06-05T19:12:33.985Z"
   },
   {
    "duration": 328,
    "start_time": "2023-06-05T19:14:21.779Z"
   },
   {
    "duration": 23174,
    "start_time": "2023-06-05T19:14:22.109Z"
   },
   {
    "duration": 893,
    "start_time": "2023-06-05T19:14:45.285Z"
   },
   {
    "duration": 6,
    "start_time": "2023-06-05T19:14:46.180Z"
   },
   {
    "duration": 324,
    "start_time": "2023-06-05T19:14:46.278Z"
   },
   {
    "duration": 2024088,
    "start_time": "2023-06-05T19:14:46.603Z"
   },
   {
    "duration": 323,
    "start_time": "2023-06-05T19:48:30.692Z"
   },
   {
    "duration": 5,
    "start_time": "2023-06-05T19:48:31.016Z"
   },
   {
    "duration": 0,
    "start_time": "2023-06-05T19:48:31.023Z"
   },
   {
    "duration": 2043,
    "start_time": "2023-06-05T19:56:29.178Z"
   },
   {
    "duration": 1051,
    "start_time": "2023-06-05T19:56:31.223Z"
   },
   {
    "duration": 119,
    "start_time": "2023-06-05T19:56:32.276Z"
   },
   {
    "duration": 112,
    "start_time": "2023-06-05T19:56:32.396Z"
   },
   {
    "duration": 16,
    "start_time": "2023-06-05T19:56:32.511Z"
   },
   {
    "duration": 484,
    "start_time": "2023-06-05T19:56:32.529Z"
   },
   {
    "duration": 479,
    "start_time": "2023-06-05T19:56:33.014Z"
   },
   {
    "duration": 111,
    "start_time": "2023-06-05T19:56:33.495Z"
   },
   {
    "duration": 16,
    "start_time": "2023-06-05T19:56:33.608Z"
   },
   {
    "duration": 18,
    "start_time": "2023-06-05T19:56:33.626Z"
   },
   {
    "duration": 33,
    "start_time": "2023-06-05T19:56:33.646Z"
   },
   {
    "duration": 19,
    "start_time": "2023-06-05T19:56:33.681Z"
   },
   {
    "duration": 21,
    "start_time": "2023-06-05T19:56:33.702Z"
   },
   {
    "duration": 80,
    "start_time": "2023-06-05T19:56:33.726Z"
   },
   {
    "duration": 49,
    "start_time": "2023-06-05T19:56:33.807Z"
   },
   {
    "duration": 47,
    "start_time": "2023-06-05T19:56:33.858Z"
   },
   {
    "duration": 101,
    "start_time": "2023-06-05T19:56:33.907Z"
   },
   {
    "duration": 166,
    "start_time": "2023-06-05T19:56:34.010Z"
   },
   {
    "duration": 405,
    "start_time": "2023-06-05T19:56:34.177Z"
   },
   {
    "duration": 1011,
    "start_time": "2023-06-05T19:56:34.584Z"
   },
   {
    "duration": 440,
    "start_time": "2023-06-05T19:56:35.597Z"
   },
   {
    "duration": 224539,
    "start_time": "2023-06-05T19:56:36.039Z"
   },
   {
    "duration": 6627,
    "start_time": "2023-06-05T20:00:20.580Z"
   },
   {
    "duration": 6,
    "start_time": "2023-06-05T20:00:27.209Z"
   },
   {
    "duration": 1110692,
    "start_time": "2023-06-05T20:00:27.217Z"
   },
   {
    "duration": 355,
    "start_time": "2023-06-05T20:18:57.910Z"
   },
   {
    "duration": 20718,
    "start_time": "2023-06-05T20:18:58.266Z"
   },
   {
    "duration": 799,
    "start_time": "2023-06-05T20:19:18.986Z"
   },
   {
    "duration": 95,
    "start_time": "2023-06-05T20:19:19.787Z"
   },
   {
    "duration": 415,
    "start_time": "2023-06-05T20:19:19.884Z"
   },
   {
    "duration": 102,
    "start_time": "2023-06-05T20:19:20.301Z"
   },
   {
    "duration": 0,
    "start_time": "2023-06-05T20:19:20.405Z"
   },
   {
    "duration": 0,
    "start_time": "2023-06-05T20:19:20.406Z"
   },
   {
    "duration": 0,
    "start_time": "2023-06-05T20:19:20.407Z"
   },
   {
    "duration": 1081,
    "start_time": "2023-06-05T21:16:13.126Z"
   },
   {
    "duration": 773,
    "start_time": "2023-06-05T21:16:14.208Z"
   },
   {
    "duration": 111,
    "start_time": "2023-06-05T21:16:14.983Z"
   },
   {
    "duration": 118,
    "start_time": "2023-06-05T21:16:15.096Z"
   },
   {
    "duration": 16,
    "start_time": "2023-06-05T21:16:15.216Z"
   },
   {
    "duration": 481,
    "start_time": "2023-06-05T21:16:15.233Z"
   },
   {
    "duration": 517,
    "start_time": "2023-06-05T21:16:15.716Z"
   },
   {
    "duration": 98,
    "start_time": "2023-06-05T21:16:16.235Z"
   },
   {
    "duration": 18,
    "start_time": "2023-06-05T21:16:16.335Z"
   },
   {
    "duration": 34,
    "start_time": "2023-06-05T21:16:16.356Z"
   },
   {
    "duration": 16,
    "start_time": "2023-06-05T21:16:16.392Z"
   },
   {
    "duration": 19,
    "start_time": "2023-06-05T21:16:16.410Z"
   },
   {
    "duration": 20,
    "start_time": "2023-06-05T21:16:16.431Z"
   },
   {
    "duration": 84,
    "start_time": "2023-06-05T21:16:16.452Z"
   },
   {
    "duration": 58,
    "start_time": "2023-06-05T21:16:16.537Z"
   },
   {
    "duration": 117,
    "start_time": "2023-06-05T21:16:16.596Z"
   },
   {
    "duration": 26,
    "start_time": "2023-06-05T21:16:16.714Z"
   },
   {
    "duration": 150,
    "start_time": "2023-06-05T21:16:16.741Z"
   },
   {
    "duration": 375,
    "start_time": "2023-06-05T21:16:16.893Z"
   },
   {
    "duration": 919,
    "start_time": "2023-06-05T21:16:17.269Z"
   },
   {
    "duration": 408,
    "start_time": "2023-06-05T21:16:18.189Z"
   },
   {
    "duration": 349381,
    "start_time": "2023-06-05T21:16:18.598Z"
   },
   {
    "duration": 6326,
    "start_time": "2023-06-05T21:22:07.981Z"
   },
   {
    "duration": 4,
    "start_time": "2023-06-05T21:22:14.309Z"
   },
   {
    "duration": 1877,
    "start_time": "2023-06-06T08:34:56.244Z"
   },
   {
    "duration": 952,
    "start_time": "2023-06-06T08:34:58.123Z"
   },
   {
    "duration": 110,
    "start_time": "2023-06-06T08:34:59.077Z"
   },
   {
    "duration": 98,
    "start_time": "2023-06-06T08:34:59.188Z"
   },
   {
    "duration": 15,
    "start_time": "2023-06-06T08:34:59.287Z"
   },
   {
    "duration": 383,
    "start_time": "2023-06-06T08:34:59.316Z"
   },
   {
    "duration": 407,
    "start_time": "2023-06-06T08:34:59.700Z"
   },
   {
    "duration": 114,
    "start_time": "2023-06-06T08:35:00.109Z"
   },
   {
    "duration": 36,
    "start_time": "2023-06-06T08:35:00.225Z"
   },
   {
    "duration": 58,
    "start_time": "2023-06-06T08:35:00.263Z"
   },
   {
    "duration": 43,
    "start_time": "2023-06-06T08:35:00.323Z"
   },
   {
    "duration": 45,
    "start_time": "2023-06-06T08:35:00.368Z"
   },
   {
    "duration": 57,
    "start_time": "2023-06-06T08:35:00.414Z"
   },
   {
    "duration": 73,
    "start_time": "2023-06-06T08:35:00.472Z"
   },
   {
    "duration": 43,
    "start_time": "2023-06-06T08:35:00.546Z"
   },
   {
    "duration": 83,
    "start_time": "2023-06-06T08:35:00.591Z"
   },
   {
    "duration": 23,
    "start_time": "2023-06-06T08:35:00.675Z"
   },
   {
    "duration": 124,
    "start_time": "2023-06-06T08:35:00.699Z"
   },
   {
    "duration": 353,
    "start_time": "2023-06-06T08:35:00.825Z"
   },
   {
    "duration": 708,
    "start_time": "2023-06-06T08:35:01.179Z"
   },
   {
    "duration": 323,
    "start_time": "2023-06-06T08:35:01.888Z"
   },
   {
    "duration": 22705,
    "start_time": "2023-06-06T08:35:02.215Z"
   },
   {
    "duration": 6807,
    "start_time": "2023-06-06T08:35:24.921Z"
   },
   {
    "duration": 4,
    "start_time": "2023-06-06T08:35:31.732Z"
   },
   {
    "duration": 90404,
    "start_time": "2023-06-06T08:35:31.737Z"
   },
   {
    "duration": 286,
    "start_time": "2023-06-06T08:37:02.215Z"
   },
   {
    "duration": 17214,
    "start_time": "2023-06-06T08:37:02.502Z"
   },
   {
    "duration": 503,
    "start_time": "2023-06-06T08:37:19.719Z"
   },
   {
    "duration": 93,
    "start_time": "2023-06-06T08:37:20.224Z"
   },
   {
    "duration": 351,
    "start_time": "2023-06-06T08:37:20.318Z"
   },
   {
    "duration": 1511075,
    "start_time": "2023-06-06T08:37:20.670Z"
   },
   {
    "duration": 9,
    "start_time": "2023-06-06T09:02:31.747Z"
   },
   {
    "duration": 414,
    "start_time": "2023-06-06T09:02:31.757Z"
   },
   {
    "duration": 9,
    "start_time": "2023-06-06T09:02:32.173Z"
   },
   {
    "duration": 2355,
    "start_time": "2023-06-06T09:02:32.184Z"
   },
   {
    "duration": 9,
    "start_time": "2023-06-06T10:03:49.098Z"
   },
   {
    "duration": 2449,
    "start_time": "2023-06-06T10:03:53.867Z"
   },
   {
    "duration": 48,
    "start_time": "2023-06-06T10:06:47.394Z"
   },
   {
    "duration": 3,
    "start_time": "2023-06-06T10:10:18.865Z"
   },
   {
    "duration": 687,
    "start_time": "2023-06-06T10:10:18.870Z"
   },
   {
    "duration": 105,
    "start_time": "2023-06-06T10:10:19.558Z"
   },
   {
    "duration": 88,
    "start_time": "2023-06-06T10:10:19.665Z"
   },
   {
    "duration": 13,
    "start_time": "2023-06-06T10:10:19.754Z"
   },
   {
    "duration": 332,
    "start_time": "2023-06-06T10:10:19.768Z"
   },
   {
    "duration": 360,
    "start_time": "2023-06-06T10:10:20.101Z"
   },
   {
    "duration": 101,
    "start_time": "2023-06-06T10:10:20.463Z"
   },
   {
    "duration": 27,
    "start_time": "2023-06-06T10:10:20.565Z"
   },
   {
    "duration": 21,
    "start_time": "2023-06-06T10:10:20.594Z"
   },
   {
    "duration": 16,
    "start_time": "2023-06-06T10:10:20.617Z"
   },
   {
    "duration": 25,
    "start_time": "2023-06-06T10:10:20.634Z"
   },
   {
    "duration": 19,
    "start_time": "2023-06-06T10:10:20.660Z"
   },
   {
    "duration": 52,
    "start_time": "2023-06-06T10:10:20.682Z"
   },
   {
    "duration": 35,
    "start_time": "2023-06-06T10:10:20.736Z"
   },
   {
    "duration": 30,
    "start_time": "2023-06-06T10:10:20.773Z"
   },
   {
    "duration": 29,
    "start_time": "2023-06-06T10:10:20.815Z"
   },
   {
    "duration": 88,
    "start_time": "2023-06-06T10:10:20.846Z"
   },
   {
    "duration": 285,
    "start_time": "2023-06-06T10:10:20.935Z"
   },
   {
    "duration": 675,
    "start_time": "2023-06-06T10:10:21.222Z"
   },
   {
    "duration": 305,
    "start_time": "2023-06-06T10:10:21.898Z"
   },
   {
    "duration": 21218,
    "start_time": "2023-06-06T10:10:22.205Z"
   },
   {
    "duration": 7102,
    "start_time": "2023-06-06T10:10:43.424Z"
   },
   {
    "duration": 4,
    "start_time": "2023-06-06T10:10:50.530Z"
   },
   {
    "duration": 340,
    "start_time": "2023-06-06T10:10:50.535Z"
   },
   {
    "duration": 247660,
    "start_time": "2023-06-06T10:10:50.876Z"
   },
   {
    "duration": 274,
    "start_time": "2023-06-06T10:14:58.537Z"
   },
   {
    "duration": 1495365,
    "start_time": "2023-06-06T10:14:58.812Z"
   },
   {
    "duration": 310,
    "start_time": "2023-06-06T10:39:54.178Z"
   },
   {
    "duration": 10,
    "start_time": "2023-06-06T10:39:54.490Z"
   },
   {
    "duration": 2317,
    "start_time": "2023-06-06T10:39:54.501Z"
   },
   {
    "duration": 256,
    "start_time": "2023-06-06T10:45:03.268Z"
   },
   {
    "duration": 272,
    "start_time": "2023-06-06T10:52:33.510Z"
   },
   {
    "duration": 6,
    "start_time": "2023-06-06T10:55:02.417Z"
   },
   {
    "duration": 108,
    "start_time": "2023-06-06T10:55:11.383Z"
   },
   {
    "duration": 7,
    "start_time": "2023-06-06T10:56:16.245Z"
   },
   {
    "duration": 10,
    "start_time": "2023-06-06T10:59:01.842Z"
   },
   {
    "duration": 1360,
    "start_time": "2023-06-06T11:45:16.756Z"
   },
   {
    "duration": 995,
    "start_time": "2023-06-06T11:45:18.118Z"
   },
   {
    "duration": 130,
    "start_time": "2023-06-06T11:45:19.115Z"
   },
   {
    "duration": 112,
    "start_time": "2023-06-06T11:45:19.246Z"
   },
   {
    "duration": 13,
    "start_time": "2023-06-06T11:45:19.360Z"
   },
   {
    "duration": 411,
    "start_time": "2023-06-06T11:45:19.374Z"
   },
   {
    "duration": 411,
    "start_time": "2023-06-06T11:45:19.786Z"
   },
   {
    "duration": 108,
    "start_time": "2023-06-06T11:45:20.198Z"
   },
   {
    "duration": 18,
    "start_time": "2023-06-06T11:45:20.308Z"
   },
   {
    "duration": 46,
    "start_time": "2023-06-06T11:45:20.328Z"
   },
   {
    "duration": 42,
    "start_time": "2023-06-06T11:45:20.376Z"
   },
   {
    "duration": 30,
    "start_time": "2023-06-06T11:45:20.419Z"
   },
   {
    "duration": 23,
    "start_time": "2023-06-06T11:45:20.450Z"
   },
   {
    "duration": 60,
    "start_time": "2023-06-06T11:45:20.476Z"
   },
   {
    "duration": 46,
    "start_time": "2023-06-06T11:45:20.538Z"
   },
   {
    "duration": 42,
    "start_time": "2023-06-06T11:45:20.586Z"
   },
   {
    "duration": 23,
    "start_time": "2023-06-06T11:45:20.630Z"
   },
   {
    "duration": 81,
    "start_time": "2023-06-06T11:45:20.655Z"
   },
   {
    "duration": 691,
    "start_time": "2023-06-06T11:45:20.738Z"
   },
   {
    "duration": 179857,
    "start_time": "2023-06-06T11:45:21.430Z"
   },
   {
    "duration": 6703,
    "start_time": "2023-06-06T11:48:21.289Z"
   },
   {
    "duration": 5,
    "start_time": "2023-06-06T11:48:27.994Z"
   },
   {
    "duration": 268231,
    "start_time": "2023-06-06T11:48:28.001Z"
   },
   {
    "duration": 1789426,
    "start_time": "2023-06-06T11:52:56.233Z"
   },
   {
    "duration": 8,
    "start_time": "2023-06-06T12:22:45.660Z"
   },
   {
    "duration": 344,
    "start_time": "2023-06-06T12:22:45.670Z"
   },
   {
    "duration": 1214,
    "start_time": "2023-06-07T11:02:15.338Z"
   },
   {
    "duration": 2732,
    "start_time": "2023-06-07T11:02:16.554Z"
   },
   {
    "duration": 114,
    "start_time": "2023-06-07T11:02:19.288Z"
   },
   {
    "duration": 109,
    "start_time": "2023-06-07T11:02:19.403Z"
   },
   {
    "duration": 18,
    "start_time": "2023-06-07T11:02:19.515Z"
   },
   {
    "duration": 466,
    "start_time": "2023-06-07T11:02:19.535Z"
   },
   {
    "duration": 475,
    "start_time": "2023-06-07T11:02:20.003Z"
   },
   {
    "duration": 104,
    "start_time": "2023-06-07T11:02:20.479Z"
   },
   {
    "duration": 17,
    "start_time": "2023-06-07T11:02:20.584Z"
   },
   {
    "duration": 18,
    "start_time": "2023-06-07T11:02:20.603Z"
   },
   {
    "duration": 32,
    "start_time": "2023-06-07T11:02:20.622Z"
   },
   {
    "duration": 25,
    "start_time": "2023-06-07T11:02:20.656Z"
   },
   {
    "duration": 18,
    "start_time": "2023-06-07T11:02:20.683Z"
   },
   {
    "duration": 50,
    "start_time": "2023-06-07T11:02:20.704Z"
   },
   {
    "duration": 59,
    "start_time": "2023-06-07T11:02:20.756Z"
   },
   {
    "duration": 35,
    "start_time": "2023-06-07T11:02:20.816Z"
   },
   {
    "duration": 40,
    "start_time": "2023-06-07T11:02:20.853Z"
   },
   {
    "duration": 138,
    "start_time": "2023-06-07T11:02:20.894Z"
   },
   {
    "duration": 912,
    "start_time": "2023-06-07T11:02:21.034Z"
   },
   {
    "duration": 1240,
    "start_time": "2023-06-07T11:03:42.349Z"
   },
   {
    "duration": 766,
    "start_time": "2023-06-07T11:03:43.593Z"
   },
   {
    "duration": 130,
    "start_time": "2023-06-07T11:03:44.360Z"
   },
   {
    "duration": 103,
    "start_time": "2023-06-07T11:03:44.492Z"
   },
   {
    "duration": 15,
    "start_time": "2023-06-07T11:03:44.596Z"
   },
   {
    "duration": 445,
    "start_time": "2023-06-07T11:03:44.613Z"
   },
   {
    "duration": 467,
    "start_time": "2023-06-07T11:03:45.059Z"
   },
   {
    "duration": 115,
    "start_time": "2023-06-07T11:03:45.527Z"
   },
   {
    "duration": 19,
    "start_time": "2023-06-07T11:03:45.644Z"
   },
   {
    "duration": 32,
    "start_time": "2023-06-07T11:03:45.666Z"
   },
   {
    "duration": 16,
    "start_time": "2023-06-07T11:03:45.700Z"
   },
   {
    "duration": 20,
    "start_time": "2023-06-07T11:03:45.717Z"
   },
   {
    "duration": 18,
    "start_time": "2023-06-07T11:03:45.739Z"
   },
   {
    "duration": 56,
    "start_time": "2023-06-07T11:03:45.781Z"
   },
   {
    "duration": 55,
    "start_time": "2023-06-07T11:03:45.839Z"
   },
   {
    "duration": 131,
    "start_time": "2023-06-07T11:03:45.895Z"
   },
   {
    "duration": 5,
    "start_time": "2023-06-07T11:03:46.028Z"
   },
   {
    "duration": 59,
    "start_time": "2023-06-07T11:03:46.035Z"
   },
   {
    "duration": 25,
    "start_time": "2023-06-07T11:03:46.096Z"
   },
   {
    "duration": 182,
    "start_time": "2023-06-07T11:03:46.123Z"
   },
   {
    "duration": 993,
    "start_time": "2023-06-07T11:03:46.307Z"
   },
   {
    "duration": 55,
    "start_time": "2023-06-07T11:04:13.160Z"
   },
   {
    "duration": 1243,
    "start_time": "2023-06-07T11:04:14.178Z"
   },
   {
    "duration": 824,
    "start_time": "2023-06-07T11:04:15.423Z"
   },
   {
    "duration": 122,
    "start_time": "2023-06-07T11:04:16.248Z"
   },
   {
    "duration": 109,
    "start_time": "2023-06-07T11:04:16.384Z"
   },
   {
    "duration": 16,
    "start_time": "2023-06-07T11:04:16.495Z"
   },
   {
    "duration": 458,
    "start_time": "2023-06-07T11:04:16.513Z"
   },
   {
    "duration": 482,
    "start_time": "2023-06-07T11:04:16.973Z"
   },
   {
    "duration": 137,
    "start_time": "2023-06-07T11:04:17.457Z"
   },
   {
    "duration": 23,
    "start_time": "2023-06-07T11:04:17.598Z"
   },
   {
    "duration": 24,
    "start_time": "2023-06-07T11:04:17.624Z"
   },
   {
    "duration": 39,
    "start_time": "2023-06-07T11:04:17.651Z"
   },
   {
    "duration": 20,
    "start_time": "2023-06-07T11:04:17.692Z"
   },
   {
    "duration": 19,
    "start_time": "2023-06-07T11:04:17.714Z"
   },
   {
    "duration": 66,
    "start_time": "2023-06-07T11:04:17.736Z"
   },
   {
    "duration": 43,
    "start_time": "2023-06-07T11:04:17.804Z"
   },
   {
    "duration": 53,
    "start_time": "2023-06-07T11:04:17.848Z"
   },
   {
    "duration": 4,
    "start_time": "2023-06-07T11:04:17.903Z"
   },
   {
    "duration": 49,
    "start_time": "2023-06-07T11:04:17.908Z"
   },
   {
    "duration": 32,
    "start_time": "2023-06-07T11:04:17.958Z"
   },
   {
    "duration": 140,
    "start_time": "2023-06-07T11:04:17.992Z"
   },
   {
    "duration": 901,
    "start_time": "2023-06-07T11:04:18.134Z"
   },
   {
    "duration": 1211,
    "start_time": "2023-06-07T11:05:27.608Z"
   },
   {
    "duration": 764,
    "start_time": "2023-06-07T11:05:28.822Z"
   },
   {
    "duration": 108,
    "start_time": "2023-06-07T11:05:29.588Z"
   },
   {
    "duration": 116,
    "start_time": "2023-06-07T11:05:29.697Z"
   },
   {
    "duration": 16,
    "start_time": "2023-06-07T11:05:29.815Z"
   },
   {
    "duration": 464,
    "start_time": "2023-06-07T11:05:30.027Z"
   },
   {
    "duration": 474,
    "start_time": "2023-06-07T11:05:30.574Z"
   },
   {
    "duration": 93,
    "start_time": "2023-06-07T11:05:31.850Z"
   },
   {
    "duration": 19,
    "start_time": "2023-06-07T11:05:33.047Z"
   },
   {
    "duration": 16,
    "start_time": "2023-06-07T11:05:33.564Z"
   },
   {
    "duration": 17,
    "start_time": "2023-06-07T11:05:33.860Z"
   },
   {
    "duration": 18,
    "start_time": "2023-06-07T11:05:34.016Z"
   },
   {
    "duration": 18,
    "start_time": "2023-06-07T11:05:34.218Z"
   },
   {
    "duration": 51,
    "start_time": "2023-06-07T11:05:35.158Z"
   },
   {
    "duration": 45,
    "start_time": "2023-06-07T11:05:35.622Z"
   },
   {
    "duration": 37,
    "start_time": "2023-06-07T11:05:36.168Z"
   },
   {
    "duration": 4,
    "start_time": "2023-06-07T11:05:37.252Z"
   },
   {
    "duration": 38,
    "start_time": "2023-06-07T11:06:48.604Z"
   },
   {
    "duration": 47,
    "start_time": "2023-06-07T11:06:49.043Z"
   },
   {
    "duration": 297,
    "start_time": "2023-06-07T11:09:05.851Z"
   },
   {
    "duration": 747,
    "start_time": "2023-06-07T11:09:06.568Z"
   },
   {
    "duration": 146,
    "start_time": "2023-06-07T11:09:07.320Z"
   },
   {
    "duration": 110,
    "start_time": "2023-06-07T11:09:07.468Z"
   },
   {
    "duration": 19,
    "start_time": "2023-06-07T11:09:07.580Z"
   },
   {
    "duration": 378,
    "start_time": "2023-06-07T11:09:07.696Z"
   },
   {
    "duration": 382,
    "start_time": "2023-06-07T11:09:08.078Z"
   },
   {
    "duration": 94,
    "start_time": "2023-06-07T11:09:08.466Z"
   },
   {
    "duration": 17,
    "start_time": "2023-06-07T11:09:09.214Z"
   },
   {
    "duration": 27,
    "start_time": "2023-06-07T11:09:09.578Z"
   },
   {
    "duration": 29,
    "start_time": "2023-06-07T11:09:09.812Z"
   },
   {
    "duration": 29,
    "start_time": "2023-06-07T11:09:10.066Z"
   },
   {
    "duration": 30,
    "start_time": "2023-06-07T11:09:10.438Z"
   },
   {
    "duration": 424,
    "start_time": "2023-06-07T11:09:11.347Z"
   },
   {
    "duration": 314,
    "start_time": "2023-06-07T11:09:43.277Z"
   },
   {
    "duration": 3,
    "start_time": "2023-06-07T11:28:13.366Z"
   },
   {
    "duration": 856,
    "start_time": "2023-06-07T11:28:13.371Z"
   },
   {
    "duration": 102,
    "start_time": "2023-06-07T11:28:14.229Z"
   },
   {
    "duration": 188,
    "start_time": "2023-06-07T11:28:14.334Z"
   },
   {
    "duration": 15,
    "start_time": "2023-06-07T11:28:14.525Z"
   },
   {
    "duration": 410,
    "start_time": "2023-06-07T11:28:14.542Z"
   },
   {
    "duration": 426,
    "start_time": "2023-06-07T11:28:14.954Z"
   },
   {
    "duration": 104,
    "start_time": "2023-06-07T11:28:15.382Z"
   },
   {
    "duration": 16,
    "start_time": "2023-06-07T11:28:15.488Z"
   },
   {
    "duration": 30,
    "start_time": "2023-06-07T11:28:15.507Z"
   },
   {
    "duration": 20,
    "start_time": "2023-06-07T11:28:15.539Z"
   },
   {
    "duration": 52,
    "start_time": "2023-06-07T11:28:15.561Z"
   },
   {
    "duration": 30,
    "start_time": "2023-06-07T11:28:15.615Z"
   },
   {
    "duration": 39,
    "start_time": "2023-06-07T11:28:15.649Z"
   },
   {
    "duration": 39,
    "start_time": "2023-06-07T11:28:15.690Z"
   },
   {
    "duration": 50,
    "start_time": "2023-06-07T11:28:15.731Z"
   },
   {
    "duration": 38,
    "start_time": "2023-06-07T11:28:15.783Z"
   },
   {
    "duration": 26,
    "start_time": "2023-06-07T11:28:15.823Z"
   },
   {
    "duration": 157,
    "start_time": "2023-06-07T11:28:15.851Z"
   },
   {
    "duration": 954,
    "start_time": "2023-06-07T11:28:16.010Z"
   },
   {
    "duration": 1150,
    "start_time": "2023-06-07T11:31:19.928Z"
   },
   {
    "duration": 5,
    "start_time": "2023-06-07T11:40:25.558Z"
   },
   {
    "duration": 739,
    "start_time": "2023-06-07T11:40:25.566Z"
   },
   {
    "duration": 119,
    "start_time": "2023-06-07T11:40:26.307Z"
   },
   {
    "duration": 108,
    "start_time": "2023-06-07T11:40:26.428Z"
   },
   {
    "duration": 17,
    "start_time": "2023-06-07T11:40:26.537Z"
   },
   {
    "duration": 450,
    "start_time": "2023-06-07T11:40:26.556Z"
   },
   {
    "duration": 520,
    "start_time": "2023-06-07T11:40:27.008Z"
   },
   {
    "duration": 129,
    "start_time": "2023-06-07T11:40:27.531Z"
   },
   {
    "duration": 26,
    "start_time": "2023-06-07T11:40:27.663Z"
   },
   {
    "duration": 16,
    "start_time": "2023-06-07T11:40:27.690Z"
   },
   {
    "duration": 23,
    "start_time": "2023-06-07T11:40:27.707Z"
   },
   {
    "duration": 17,
    "start_time": "2023-06-07T11:40:27.731Z"
   },
   {
    "duration": 42,
    "start_time": "2023-06-07T11:40:27.750Z"
   },
   {
    "duration": 55,
    "start_time": "2023-06-07T11:40:27.793Z"
   },
   {
    "duration": 49,
    "start_time": "2023-06-07T11:40:27.850Z"
   },
   {
    "duration": 40,
    "start_time": "2023-06-07T11:40:27.901Z"
   },
   {
    "duration": 42,
    "start_time": "2023-06-07T11:40:27.943Z"
   },
   {
    "duration": 22,
    "start_time": "2023-06-07T11:40:27.987Z"
   },
   {
    "duration": 190,
    "start_time": "2023-06-07T11:40:28.011Z"
   },
   {
    "duration": 102,
    "start_time": "2023-06-07T11:40:28.203Z"
   },
   {
    "duration": 0,
    "start_time": "2023-06-07T11:40:28.307Z"
   },
   {
    "duration": 0,
    "start_time": "2023-06-07T11:40:28.308Z"
   },
   {
    "duration": 0,
    "start_time": "2023-06-07T11:40:28.309Z"
   },
   {
    "duration": 0,
    "start_time": "2023-06-07T11:40:28.310Z"
   },
   {
    "duration": 0,
    "start_time": "2023-06-07T11:40:28.311Z"
   },
   {
    "duration": 0,
    "start_time": "2023-06-07T11:40:28.312Z"
   },
   {
    "duration": 1254,
    "start_time": "2023-06-07T12:00:27.044Z"
   },
   {
    "duration": 3064,
    "start_time": "2023-06-07T12:02:12.579Z"
   },
   {
    "duration": 335,
    "start_time": "2023-06-07T12:02:32.990Z"
   },
   {
    "duration": 4,
    "start_time": "2023-06-07T12:02:36.286Z"
   },
   {
    "duration": 830,
    "start_time": "2023-06-07T12:02:36.482Z"
   },
   {
    "duration": 106,
    "start_time": "2023-06-07T12:02:37.314Z"
   },
   {
    "duration": 381,
    "start_time": "2023-06-07T12:02:37.422Z"
   },
   {
    "duration": 21,
    "start_time": "2023-06-07T12:02:37.805Z"
   },
   {
    "duration": 389,
    "start_time": "2023-06-07T12:02:37.828Z"
   },
   {
    "duration": 410,
    "start_time": "2023-06-07T12:02:38.218Z"
   },
   {
    "duration": 102,
    "start_time": "2023-06-07T12:02:38.630Z"
   },
   {
    "duration": 16,
    "start_time": "2023-06-07T12:02:38.733Z"
   },
   {
    "duration": 34,
    "start_time": "2023-06-07T12:02:38.750Z"
   },
   {
    "duration": 16,
    "start_time": "2023-06-07T12:02:38.788Z"
   },
   {
    "duration": 17,
    "start_time": "2023-06-07T12:02:38.806Z"
   },
   {
    "duration": 22,
    "start_time": "2023-06-07T12:02:38.825Z"
   },
   {
    "duration": 68,
    "start_time": "2023-06-07T12:02:38.848Z"
   },
   {
    "duration": 39,
    "start_time": "2023-06-07T12:02:38.917Z"
   },
   {
    "duration": 54,
    "start_time": "2023-06-07T12:02:38.957Z"
   },
   {
    "duration": 38,
    "start_time": "2023-06-07T12:02:39.013Z"
   },
   {
    "duration": 301,
    "start_time": "2023-06-07T12:02:39.054Z"
   },
   {
    "duration": 195,
    "start_time": "2023-06-07T12:02:39.357Z"
   },
   {
    "duration": 3233,
    "start_time": "2023-06-07T12:02:39.554Z"
   },
   {
    "duration": 322,
    "start_time": "2023-06-07T12:02:42.789Z"
   },
   {
    "duration": 722072,
    "start_time": "2023-06-07T12:02:43.112Z"
   },
   {
    "duration": 1264,
    "start_time": "2023-06-07T12:40:15.093Z"
   },
   {
    "duration": 768,
    "start_time": "2023-06-07T12:40:16.359Z"
   },
   {
    "duration": 115,
    "start_time": "2023-06-07T12:40:17.128Z"
   },
   {
    "duration": 105,
    "start_time": "2023-06-07T12:40:17.245Z"
   },
   {
    "duration": 29,
    "start_time": "2023-06-07T12:40:17.351Z"
   },
   {
    "duration": 480,
    "start_time": "2023-06-07T12:40:17.383Z"
   },
   {
    "duration": 459,
    "start_time": "2023-06-07T12:40:17.864Z"
   },
   {
    "duration": 101,
    "start_time": "2023-06-07T12:40:18.324Z"
   },
   {
    "duration": 19,
    "start_time": "2023-06-07T12:40:18.426Z"
   },
   {
    "duration": 34,
    "start_time": "2023-06-07T12:40:18.447Z"
   },
   {
    "duration": 18,
    "start_time": "2023-06-07T12:40:18.482Z"
   },
   {
    "duration": 16,
    "start_time": "2023-06-07T12:40:18.502Z"
   },
   {
    "duration": 19,
    "start_time": "2023-06-07T12:40:18.520Z"
   },
   {
    "duration": 77,
    "start_time": "2023-06-07T12:40:18.541Z"
   },
   {
    "duration": 46,
    "start_time": "2023-06-07T12:40:18.620Z"
   },
   {
    "duration": 43,
    "start_time": "2023-06-07T12:40:18.677Z"
   },
   {
    "duration": 31,
    "start_time": "2023-06-07T12:40:18.722Z"
   },
   {
    "duration": 36,
    "start_time": "2023-06-07T12:40:18.756Z"
   },
   {
    "duration": 197,
    "start_time": "2023-06-07T12:40:18.794Z"
   },
   {
    "duration": 3200,
    "start_time": "2023-06-07T12:40:18.993Z"
   },
   {
    "duration": 343,
    "start_time": "2023-06-07T12:40:22.194Z"
   },
   {
    "duration": 755248,
    "start_time": "2023-06-07T12:40:22.539Z"
   },
   {
    "duration": 1319,
    "start_time": "2023-06-07T13:11:26.809Z"
   },
   {
    "duration": 751,
    "start_time": "2023-06-07T13:11:28.130Z"
   },
   {
    "duration": 115,
    "start_time": "2023-06-07T13:11:28.883Z"
   },
   {
    "duration": 102,
    "start_time": "2023-06-07T13:11:29.000Z"
   },
   {
    "duration": 15,
    "start_time": "2023-06-07T13:11:29.104Z"
   },
   {
    "duration": 448,
    "start_time": "2023-06-07T13:11:29.121Z"
   },
   {
    "duration": 483,
    "start_time": "2023-06-07T13:11:29.571Z"
   },
   {
    "duration": 103,
    "start_time": "2023-06-07T13:11:30.056Z"
   },
   {
    "duration": 42,
    "start_time": "2023-06-07T13:11:30.161Z"
   },
   {
    "duration": 37,
    "start_time": "2023-06-07T13:11:30.205Z"
   },
   {
    "duration": 47,
    "start_time": "2023-06-07T13:11:30.244Z"
   },
   {
    "duration": 37,
    "start_time": "2023-06-07T13:11:30.293Z"
   },
   {
    "duration": 53,
    "start_time": "2023-06-07T13:11:30.332Z"
   },
   {
    "duration": 98,
    "start_time": "2023-06-07T13:11:30.388Z"
   },
   {
    "duration": 65,
    "start_time": "2023-06-07T13:11:30.488Z"
   },
   {
    "duration": 48,
    "start_time": "2023-06-07T13:11:30.557Z"
   },
   {
    "duration": 32,
    "start_time": "2023-06-07T13:11:30.607Z"
   },
   {
    "duration": 40,
    "start_time": "2023-06-07T13:11:30.641Z"
   },
   {
    "duration": 216,
    "start_time": "2023-06-07T13:11:30.683Z"
   },
   {
    "duration": 3017,
    "start_time": "2023-06-07T13:11:30.901Z"
   },
   {
    "duration": 340,
    "start_time": "2023-06-07T13:11:33.920Z"
   },
   {
    "duration": 719622,
    "start_time": "2023-06-07T13:11:34.261Z"
   },
   {
    "duration": 1359,
    "start_time": "2023-06-07T14:02:24.558Z"
   },
   {
    "duration": 902,
    "start_time": "2023-06-07T14:02:25.923Z"
   },
   {
    "duration": 138,
    "start_time": "2023-06-07T14:02:26.827Z"
   },
   {
    "duration": 122,
    "start_time": "2023-06-07T14:02:26.967Z"
   },
   {
    "duration": 28,
    "start_time": "2023-06-07T14:02:27.092Z"
   },
   {
    "duration": 535,
    "start_time": "2023-06-07T14:02:27.123Z"
   },
   {
    "duration": 636,
    "start_time": "2023-06-07T14:02:27.660Z"
   },
   {
    "duration": 117,
    "start_time": "2023-06-07T14:02:28.300Z"
   },
   {
    "duration": 20,
    "start_time": "2023-06-07T14:02:28.419Z"
   },
   {
    "duration": 19,
    "start_time": "2023-06-07T14:02:28.441Z"
   },
   {
    "duration": 50,
    "start_time": "2023-06-07T14:02:28.462Z"
   },
   {
    "duration": 26,
    "start_time": "2023-06-07T14:02:28.515Z"
   },
   {
    "duration": 19,
    "start_time": "2023-06-07T14:02:28.543Z"
   },
   {
    "duration": 85,
    "start_time": "2023-06-07T14:02:28.565Z"
   },
   {
    "duration": 60,
    "start_time": "2023-06-07T14:02:28.651Z"
   },
   {
    "duration": 50,
    "start_time": "2023-06-07T14:02:28.713Z"
   },
   {
    "duration": 42,
    "start_time": "2023-06-07T14:02:28.764Z"
   },
   {
    "duration": 30,
    "start_time": "2023-06-07T14:02:28.812Z"
   },
   {
    "duration": 211,
    "start_time": "2023-06-07T14:02:28.844Z"
   },
   {
    "duration": 3477,
    "start_time": "2023-06-07T14:02:29.057Z"
   },
   {
    "duration": 416,
    "start_time": "2023-06-07T14:02:32.536Z"
   },
   {
    "duration": 1383,
    "start_time": "2023-06-07T14:06:00.964Z"
   },
   {
    "duration": 905,
    "start_time": "2023-06-07T14:06:02.349Z"
   },
   {
    "duration": 126,
    "start_time": "2023-06-07T14:06:03.256Z"
   },
   {
    "duration": 162,
    "start_time": "2023-06-07T14:06:03.390Z"
   },
   {
    "duration": 18,
    "start_time": "2023-06-07T14:06:03.555Z"
   },
   {
    "duration": 577,
    "start_time": "2023-06-07T14:06:03.578Z"
   },
   {
    "duration": 569,
    "start_time": "2023-06-07T14:06:04.156Z"
   },
   {
    "duration": 139,
    "start_time": "2023-06-07T14:06:04.727Z"
   },
   {
    "duration": 28,
    "start_time": "2023-06-07T14:06:04.868Z"
   },
   {
    "duration": 30,
    "start_time": "2023-06-07T14:06:04.898Z"
   },
   {
    "duration": 33,
    "start_time": "2023-06-07T14:06:04.930Z"
   },
   {
    "duration": 51,
    "start_time": "2023-06-07T14:06:04.965Z"
   },
   {
    "duration": 34,
    "start_time": "2023-06-07T14:06:05.018Z"
   },
   {
    "duration": 104,
    "start_time": "2023-06-07T14:06:05.055Z"
   },
   {
    "duration": 77,
    "start_time": "2023-06-07T14:06:05.161Z"
   },
   {
    "duration": 57,
    "start_time": "2023-06-07T14:06:05.239Z"
   },
   {
    "duration": 42,
    "start_time": "2023-06-07T14:06:05.299Z"
   },
   {
    "duration": 58,
    "start_time": "2023-06-07T14:06:05.343Z"
   },
   {
    "duration": 252,
    "start_time": "2023-06-07T14:06:05.403Z"
   },
   {
    "duration": 3328,
    "start_time": "2023-06-07T14:06:05.657Z"
   },
   {
    "duration": 414,
    "start_time": "2023-06-07T14:06:08.991Z"
   },
   {
    "duration": 775997,
    "start_time": "2023-06-07T14:06:09.411Z"
   },
   {
    "duration": 3368007,
    "start_time": "2023-06-07T14:19:05.413Z"
   },
   {
    "duration": 536,
    "start_time": "2023-06-07T15:15:13.422Z"
   },
   {
    "duration": 832970,
    "start_time": "2023-06-07T15:15:13.960Z"
   },
   {
    "duration": 363,
    "start_time": "2023-06-07T15:29:06.931Z"
   },
   {
    "duration": 1257,
    "start_time": "2023-06-07T16:04:24.287Z"
   },
   {
    "duration": 863,
    "start_time": "2023-06-07T16:04:25.546Z"
   },
   {
    "duration": 140,
    "start_time": "2023-06-07T16:04:26.411Z"
   },
   {
    "duration": 153,
    "start_time": "2023-06-07T16:04:26.553Z"
   },
   {
    "duration": 18,
    "start_time": "2023-06-07T16:04:26.709Z"
   },
   {
    "duration": 494,
    "start_time": "2023-06-07T16:04:26.729Z"
   },
   {
    "duration": 572,
    "start_time": "2023-06-07T16:04:27.225Z"
   },
   {
    "duration": 109,
    "start_time": "2023-06-07T16:04:27.799Z"
   },
   {
    "duration": 27,
    "start_time": "2023-06-07T16:04:27.911Z"
   },
   {
    "duration": 38,
    "start_time": "2023-06-07T16:04:27.940Z"
   },
   {
    "duration": 17,
    "start_time": "2023-06-07T16:04:27.980Z"
   },
   {
    "duration": 25,
    "start_time": "2023-06-07T16:04:27.999Z"
   },
   {
    "duration": 19,
    "start_time": "2023-06-07T16:04:28.025Z"
   },
   {
    "duration": 75,
    "start_time": "2023-06-07T16:04:28.048Z"
   },
   {
    "duration": 74,
    "start_time": "2023-06-07T16:04:28.125Z"
   },
   {
    "duration": 55,
    "start_time": "2023-06-07T16:04:28.202Z"
   },
   {
    "duration": 48,
    "start_time": "2023-06-07T16:04:28.259Z"
   },
   {
    "duration": 26,
    "start_time": "2023-06-07T16:04:28.309Z"
   },
   {
    "duration": 213,
    "start_time": "2023-06-07T16:04:28.336Z"
   },
   {
    "duration": 4683,
    "start_time": "2023-06-07T16:04:28.551Z"
   },
   {
    "duration": 363,
    "start_time": "2023-06-07T16:04:33.236Z"
   },
   {
    "duration": 1302,
    "start_time": "2023-06-07T16:06:19.478Z"
   },
   {
    "duration": 792,
    "start_time": "2023-06-07T16:06:20.782Z"
   },
   {
    "duration": 124,
    "start_time": "2023-06-07T16:06:21.576Z"
   },
   {
    "duration": 110,
    "start_time": "2023-06-07T16:06:21.702Z"
   },
   {
    "duration": 15,
    "start_time": "2023-06-07T16:06:21.813Z"
   },
   {
    "duration": 485,
    "start_time": "2023-06-07T16:06:21.830Z"
   },
   {
    "duration": 533,
    "start_time": "2023-06-07T16:06:22.316Z"
   },
   {
    "duration": 129,
    "start_time": "2023-06-07T16:06:22.851Z"
   },
   {
    "duration": 17,
    "start_time": "2023-06-07T16:06:22.982Z"
   },
   {
    "duration": 17,
    "start_time": "2023-06-07T16:06:23.002Z"
   },
   {
    "duration": 17,
    "start_time": "2023-06-07T16:06:23.021Z"
   },
   {
    "duration": 44,
    "start_time": "2023-06-07T16:06:23.040Z"
   },
   {
    "duration": 19,
    "start_time": "2023-06-07T16:06:23.085Z"
   },
   {
    "duration": 75,
    "start_time": "2023-06-07T16:06:23.105Z"
   },
   {
    "duration": 51,
    "start_time": "2023-06-07T16:06:23.182Z"
   },
   {
    "duration": 59,
    "start_time": "2023-06-07T16:06:23.235Z"
   },
   {
    "duration": 35,
    "start_time": "2023-06-07T16:06:23.296Z"
   },
   {
    "duration": 27,
    "start_time": "2023-06-07T16:06:23.332Z"
   },
   {
    "duration": 218,
    "start_time": "2023-06-07T16:06:23.360Z"
   },
   {
    "duration": 4439,
    "start_time": "2023-06-07T16:06:23.580Z"
   },
   {
    "duration": 786067,
    "start_time": "2023-06-07T16:06:28.021Z"
   },
   {
    "duration": 1192,
    "start_time": "2023-06-07T16:31:42.304Z"
   },
   {
    "duration": 767,
    "start_time": "2023-06-07T16:31:43.498Z"
   },
   {
    "duration": 115,
    "start_time": "2023-06-07T16:31:44.267Z"
   },
   {
    "duration": 105,
    "start_time": "2023-06-07T16:31:44.384Z"
   },
   {
    "duration": 15,
    "start_time": "2023-06-07T16:31:44.491Z"
   },
   {
    "duration": 454,
    "start_time": "2023-06-07T16:31:44.509Z"
   },
   {
    "duration": 453,
    "start_time": "2023-06-07T16:31:44.965Z"
   },
   {
    "duration": 111,
    "start_time": "2023-06-07T16:31:45.419Z"
   },
   {
    "duration": 23,
    "start_time": "2023-06-07T16:31:45.532Z"
   },
   {
    "duration": 32,
    "start_time": "2023-06-07T16:31:45.557Z"
   },
   {
    "duration": 47,
    "start_time": "2023-06-07T16:31:45.591Z"
   },
   {
    "duration": 19,
    "start_time": "2023-06-07T16:31:45.641Z"
   },
   {
    "duration": 26,
    "start_time": "2023-06-07T16:31:45.661Z"
   },
   {
    "duration": 58,
    "start_time": "2023-06-07T16:31:45.688Z"
   },
   {
    "duration": 66,
    "start_time": "2023-06-07T16:31:45.747Z"
   },
   {
    "duration": 49,
    "start_time": "2023-06-07T16:31:45.815Z"
   },
   {
    "duration": 43,
    "start_time": "2023-06-07T16:31:45.866Z"
   },
   {
    "duration": 26,
    "start_time": "2023-06-07T16:31:45.912Z"
   },
   {
    "duration": 1358,
    "start_time": "2023-06-07T16:38:18.447Z"
   },
   {
    "duration": 877,
    "start_time": "2023-06-07T16:38:19.807Z"
   },
   {
    "duration": 111,
    "start_time": "2023-06-07T16:38:20.688Z"
   },
   {
    "duration": 155,
    "start_time": "2023-06-07T16:38:20.801Z"
   },
   {
    "duration": 23,
    "start_time": "2023-06-07T16:38:20.958Z"
   },
   {
    "duration": 469,
    "start_time": "2023-06-07T16:38:20.983Z"
   },
   {
    "duration": 524,
    "start_time": "2023-06-07T16:38:21.454Z"
   },
   {
    "duration": 108,
    "start_time": "2023-06-07T16:38:21.980Z"
   },
   {
    "duration": 28,
    "start_time": "2023-06-07T16:38:22.090Z"
   },
   {
    "duration": 23,
    "start_time": "2023-06-07T16:38:22.120Z"
   },
   {
    "duration": 43,
    "start_time": "2023-06-07T16:38:22.145Z"
   },
   {
    "duration": 19,
    "start_time": "2023-06-07T16:38:22.190Z"
   },
   {
    "duration": 19,
    "start_time": "2023-06-07T16:38:22.211Z"
   },
   {
    "duration": 79,
    "start_time": "2023-06-07T16:38:22.233Z"
   },
   {
    "duration": 66,
    "start_time": "2023-06-07T16:38:22.314Z"
   },
   {
    "duration": 53,
    "start_time": "2023-06-07T16:38:22.381Z"
   },
   {
    "duration": 50,
    "start_time": "2023-06-07T16:38:22.435Z"
   },
   {
    "duration": 25,
    "start_time": "2023-06-07T16:38:22.487Z"
   },
   {
    "duration": 209,
    "start_time": "2023-06-07T16:38:22.514Z"
   },
   {
    "duration": 4875,
    "start_time": "2023-06-07T16:38:22.725Z"
   },
   {
    "duration": 709882,
    "start_time": "2023-06-07T16:38:27.602Z"
   },
   {
    "duration": 464717,
    "start_time": "2023-06-07T16:50:17.488Z"
   },
   {
    "duration": 4,
    "start_time": "2023-06-07T16:58:02.207Z"
   },
   {
    "duration": 14,
    "start_time": "2023-06-07T16:58:02.213Z"
   },
   {
    "duration": 842935,
    "start_time": "2023-06-07T16:58:02.229Z"
   },
   {
    "duration": 4,
    "start_time": "2023-06-07T17:12:05.166Z"
   },
   {
    "duration": 1269,
    "start_time": "2023-06-07T18:50:20.594Z"
   },
   {
    "duration": 876,
    "start_time": "2023-06-07T18:50:21.865Z"
   },
   {
    "duration": 154,
    "start_time": "2023-06-07T18:50:22.743Z"
   },
   {
    "duration": 108,
    "start_time": "2023-06-07T18:50:22.899Z"
   },
   {
    "duration": 16,
    "start_time": "2023-06-07T18:50:23.010Z"
   },
   {
    "duration": 594,
    "start_time": "2023-06-07T18:50:23.028Z"
   },
   {
    "duration": 514,
    "start_time": "2023-06-07T18:50:23.624Z"
   },
   {
    "duration": 109,
    "start_time": "2023-06-07T18:50:24.140Z"
   },
   {
    "duration": 30,
    "start_time": "2023-06-07T18:50:24.251Z"
   },
   {
    "duration": 19,
    "start_time": "2023-06-07T18:50:24.288Z"
   },
   {
    "duration": 34,
    "start_time": "2023-06-07T18:50:24.308Z"
   },
   {
    "duration": 22,
    "start_time": "2023-06-07T18:50:24.344Z"
   },
   {
    "duration": 33,
    "start_time": "2023-06-07T18:50:24.368Z"
   },
   {
    "duration": 56,
    "start_time": "2023-06-07T18:50:24.404Z"
   },
   {
    "duration": 63,
    "start_time": "2023-06-07T18:50:24.462Z"
   },
   {
    "duration": 67,
    "start_time": "2023-06-07T18:50:24.527Z"
   },
   {
    "duration": 35,
    "start_time": "2023-06-07T18:50:24.596Z"
   },
   {
    "duration": 33,
    "start_time": "2023-06-07T18:50:24.634Z"
   },
   {
    "duration": 219,
    "start_time": "2023-06-07T18:50:24.679Z"
   },
   {
    "duration": 4550,
    "start_time": "2023-06-07T18:50:24.900Z"
   },
   {
    "duration": 868759,
    "start_time": "2023-06-07T18:50:29.452Z"
   },
   {
    "duration": 2511069,
    "start_time": "2023-06-07T19:04:58.215Z"
   },
   {
    "duration": 5,
    "start_time": "2023-06-07T19:46:49.286Z"
   },
   {
    "duration": 1692621,
    "start_time": "2023-06-07T19:46:49.292Z"
   },
   {
    "duration": 606535,
    "start_time": "2023-06-07T20:15:01.915Z"
   },
   {
    "duration": 1401,
    "start_time": "2023-06-08T08:42:44.232Z"
   },
   {
    "duration": 841,
    "start_time": "2023-06-08T08:42:45.635Z"
   },
   {
    "duration": 154,
    "start_time": "2023-06-08T08:42:46.477Z"
   },
   {
    "duration": 110,
    "start_time": "2023-06-08T08:42:46.634Z"
   },
   {
    "duration": 15,
    "start_time": "2023-06-08T08:42:46.746Z"
   },
   {
    "duration": 481,
    "start_time": "2023-06-08T08:42:46.763Z"
   },
   {
    "duration": 498,
    "start_time": "2023-06-08T08:42:47.246Z"
   },
   {
    "duration": 130,
    "start_time": "2023-06-08T08:42:47.746Z"
   },
   {
    "duration": 20,
    "start_time": "2023-06-08T08:42:47.877Z"
   },
   {
    "duration": 40,
    "start_time": "2023-06-08T08:42:47.900Z"
   },
   {
    "duration": 24,
    "start_time": "2023-06-08T08:42:47.941Z"
   },
   {
    "duration": 21,
    "start_time": "2023-06-08T08:42:47.967Z"
   },
   {
    "duration": 41,
    "start_time": "2023-06-08T08:42:47.990Z"
   },
   {
    "duration": 55,
    "start_time": "2023-06-08T08:42:48.033Z"
   },
   {
    "duration": 64,
    "start_time": "2023-06-08T08:42:48.089Z"
   },
   {
    "duration": 45,
    "start_time": "2023-06-08T08:42:48.155Z"
   },
   {
    "duration": 43,
    "start_time": "2023-06-08T08:42:48.202Z"
   },
   {
    "duration": 25,
    "start_time": "2023-06-08T08:42:48.247Z"
   },
   {
    "duration": 224,
    "start_time": "2023-06-08T08:42:48.273Z"
   },
   {
    "duration": 3859,
    "start_time": "2023-06-08T08:42:48.499Z"
   },
   {
    "duration": 117652,
    "start_time": "2023-06-08T08:42:52.360Z"
   },
   {
    "duration": 0,
    "start_time": "2023-06-08T08:44:50.014Z"
   },
   {
    "duration": 0,
    "start_time": "2023-06-08T08:44:50.016Z"
   },
   {
    "duration": 0,
    "start_time": "2023-06-08T08:44:50.017Z"
   },
   {
    "duration": 0,
    "start_time": "2023-06-08T08:44:50.026Z"
   },
   {
    "duration": 0,
    "start_time": "2023-06-08T08:44:50.028Z"
   },
   {
    "duration": 0,
    "start_time": "2023-06-08T08:44:50.030Z"
   },
   {
    "duration": 0,
    "start_time": "2023-06-08T08:44:50.032Z"
   },
   {
    "duration": 0,
    "start_time": "2023-06-08T08:44:50.033Z"
   },
   {
    "duration": 0,
    "start_time": "2023-06-08T08:44:50.035Z"
   },
   {
    "duration": 1287,
    "start_time": "2023-06-08T11:34:28.628Z"
   },
   {
    "duration": 1296,
    "start_time": "2023-06-08T11:34:29.918Z"
   },
   {
    "duration": 126,
    "start_time": "2023-06-08T11:34:31.216Z"
   },
   {
    "duration": 173,
    "start_time": "2023-06-08T11:34:31.343Z"
   },
   {
    "duration": 13,
    "start_time": "2023-06-08T11:34:31.518Z"
   },
   {
    "duration": 607,
    "start_time": "2023-06-08T11:34:31.532Z"
   },
   {
    "duration": 431,
    "start_time": "2023-06-08T11:34:32.140Z"
   },
   {
    "duration": 145,
    "start_time": "2023-06-08T11:34:32.573Z"
   },
   {
    "duration": 34,
    "start_time": "2023-06-08T11:34:32.720Z"
   },
   {
    "duration": 21,
    "start_time": "2023-06-08T11:34:32.755Z"
   },
   {
    "duration": 38,
    "start_time": "2023-06-08T11:34:32.778Z"
   },
   {
    "duration": 24,
    "start_time": "2023-06-08T11:34:32.818Z"
   },
   {
    "duration": 62,
    "start_time": "2023-06-08T11:34:32.844Z"
   },
   {
    "duration": 51,
    "start_time": "2023-06-08T11:34:32.916Z"
   },
   {
    "duration": 54,
    "start_time": "2023-06-08T11:34:32.969Z"
   },
   {
    "duration": 38,
    "start_time": "2023-06-08T11:34:33.024Z"
   },
   {
    "duration": 38,
    "start_time": "2023-06-08T11:34:33.064Z"
   },
   {
    "duration": 36,
    "start_time": "2023-06-08T11:34:33.108Z"
   },
   {
    "duration": 129,
    "start_time": "2023-06-08T11:34:33.146Z"
   },
   {
    "duration": 2286,
    "start_time": "2023-06-08T11:34:33.277Z"
   }
  ],
  "kernelspec": {
   "display_name": "Python 3 (ipykernel)",
   "language": "python",
   "name": "python3"
  },
  "language_info": {
   "codemirror_mode": {
    "name": "ipython",
    "version": 3
   },
   "file_extension": ".py",
   "mimetype": "text/x-python",
   "name": "python",
   "nbconvert_exporter": "python",
   "pygments_lexer": "ipython3",
   "version": "3.9.13"
  },
  "toc": {
   "base_numbering": 1,
   "nav_menu": {},
   "number_sections": true,
   "sideBar": true,
   "skip_h1_title": true,
   "title_cell": "Table of Contents",
   "title_sidebar": "Contents",
   "toc_cell": false,
   "toc_position": {},
   "toc_section_display": true,
   "toc_window_display": false
  }
 },
 "nbformat": 4,
 "nbformat_minor": 2
}
